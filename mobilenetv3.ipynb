{
 "cells": [
  {
   "cell_type": "markdown",
   "metadata": {},
   "source": [
    "## Configure Defaults"
   ]
  },
  {
   "cell_type": "code",
   "execution_count": 1,
   "metadata": {},
   "outputs": [],
   "source": [
    "import os\n",
    "\n",
    "DATA_DIR = 'data/'\n",
    "if not os.path.exists(DATA_DIR):\n",
    "    os.mkdir(DATA_DIR)\n",
    "MODELS_DIR = 'models/'\n",
    "if not os.path.exists(MODELS_DIR):\n",
    "    os.mkdir(MODELS_DIR)\n",
    "\n",
    "MODEL_TORCH = MODELS_DIR + 'model_torch.pth'\n",
    "MODEL_TORCH_CKPT = MODELS_DIR + 'model_torch.ckpt'\n",
    "MODEL_ONNX = MODELS_DIR + 'model.onnx'\n",
    "MODEL_TF = MODELS_DIR + 'model'\n",
    "MODEL_TFLITE = MODELS_DIR + 'model.tflite'\n",
    "MODEL_TFLITE_QUANT = MODELS_DIR + 'model_quant.tflite'\n",
    "MODEL_TFLM = MODELS_DIR + 'image_recognition_model.cc'"
   ]
  },
  {
   "cell_type": "markdown",
   "metadata": {},
   "source": [
    "## Import Dependencies"
   ]
  },
  {
   "cell_type": "code",
   "execution_count": 2,
   "metadata": {},
   "outputs": [],
   "source": [
    "import sys\n",
    "import time\n",
    "import copy\n",
    "import random"
   ]
  },
  {
   "cell_type": "code",
   "execution_count": 3,
   "metadata": {},
   "outputs": [],
   "source": [
    "import numpy as np\n",
    "import pandas as pd\n",
    "import matplotlib.pyplot as plt"
   ]
  },
  {
   "cell_type": "code",
   "execution_count": 4,
   "metadata": {
    "tags": []
   },
   "outputs": [
    {
     "data": {
      "text/plain": [
       "True"
      ]
     },
     "execution_count": 4,
     "metadata": {},
     "output_type": "execute_result"
    }
   ],
   "source": [
    "import torch\n",
    "import torch.nn as nn\n",
    "import torch.optim as optim\n",
    "import torch.backends.cudnn as cudnn\n",
    "import torch.nn.utils.prune as prune\n",
    "from torch.utils.data import Subset, DataLoader\n",
    "\n",
    "import torchvision\n",
    "import torchvision.transforms as transforms\n",
    "torch.cuda.is_available()"
   ]
  },
  {
   "cell_type": "code",
   "execution_count": 5,
   "metadata": {
    "tags": []
   },
   "outputs": [
    {
     "name": "stdout",
     "output_type": "stream",
     "text": [
      "env: TF_CPP_MIN_LOG_LEVEL=3\n"
     ]
    }
   ],
   "source": [
    "%env TF_CPP_MIN_LOG_LEVEL=3\n",
    "import tensorflow as tf"
   ]
  },
  {
   "cell_type": "code",
   "execution_count": 6,
   "metadata": {},
   "outputs": [
    {
     "name": "stdout",
     "output_type": "stream",
     "text": [
      "env: CUBLAS_WORKSPACE_CONFIG=:4096:8\n"
     ]
    }
   ],
   "source": [
    "device = 'cuda' if torch.cuda.is_available() else 'cpu'\n",
    "if device == 'cuda':\n",
    "    %env CUBLAS_WORKSPACE_CONFIG=:4096:8\n",
    "    cudnn.deterministic = True\n",
    "    os.unsetenv('CUDA_VISIBLE_DEVICES')\n",
    "    torch.cuda.device_count.cache_clear()\n",
    "    torch.cuda.device_count()"
   ]
  },
  {
   "cell_type": "code",
   "execution_count": 7,
   "metadata": {},
   "outputs": [],
   "source": [
    "import onnx\n",
    "import onnx2tf"
   ]
  },
  {
   "cell_type": "markdown",
   "metadata": {},
   "source": [
    "## Dataset"
   ]
  },
  {
   "cell_type": "code",
   "execution_count": 8,
   "metadata": {},
   "outputs": [
    {
     "name": "stdout",
     "output_type": "stream",
     "text": [
      "Files already downloaded and verified\n",
      "Files already downloaded and verified\n"
     ]
    }
   ],
   "source": [
    "trainset = torchvision.datasets.CIFAR10(root=DATA_DIR, train=True, download=True, transform=transforms.Compose([\n",
    "    transforms.RandomCrop(32, padding=4, padding_mode='edge'),\n",
    "    transforms.RandomHorizontalFlip(),\n",
    "    transforms.PILToTensor(),\n",
    "    lambda image: image.to(torch.float)-128\n",
    "]))\n",
    "\n",
    "validateset = torchvision.datasets.CIFAR10(root=DATA_DIR, train=True, download=True, transform=transforms.Compose([\n",
    "    transforms.PILToTensor(),\n",
    "    lambda image: image.to(torch.float)-128\n",
    "]))\n",
    "\n",
    "def seed_worker(worker_id):\n",
    "    np.random.seed(torch.initial_seed() % 2**32)"
   ]
  },
  {
   "cell_type": "code",
   "execution_count": 9,
   "metadata": {},
   "outputs": [
    {
     "name": "stdout",
     "output_type": "stream",
     "text": [
      "Files already downloaded and verified\n"
     ]
    }
   ],
   "source": [
    "testset = torchvision.datasets.CIFAR10(root=DATA_DIR, train=False, download=True, transform=transforms.Compose([\n",
    "    transforms.PILToTensor(),\n",
    "    lambda image: image.to(torch.float)-128\n",
    "]))\n",
    "\n",
    "x_test, y_test = testset.data[0:350].astype('float32')-128, testset.targets[0:350]"
   ]
  },
  {
   "cell_type": "markdown",
   "metadata": {},
   "source": [
    "## Utility"
   ]
  },
  {
   "cell_type": "code",
   "execution_count": 10,
   "metadata": {},
   "outputs": [],
   "source": [
    "def train(model, device, train_loader, optimizer, criterion, epoch):\n",
    "    model.train()\n",
    "    train_loss = 0\n",
    "    correct = 0\n",
    "    total = len(train_loader.dataset)\n",
    "    total_curr = 0\n",
    "    begin_time = time.time()\n",
    "    for batch_idx, (data, targets) in enumerate(train_loader):\n",
    "        data, targets = data.to(device), targets.to(device)\n",
    "        optimizer.zero_grad()\n",
    "        outputs = model(data)\n",
    "        loss = criterion(outputs, targets)\n",
    "        loss.backward()\n",
    "        optimizer.step()\n",
    "\n",
    "        train_loss += loss.item()\n",
    "        _, predicted = outputs.max(1)\n",
    "        total_curr += targets.size(0)\n",
    "        correct += predicted.eq(targets).sum().item()\n",
    "\n",
    "        sys.stdout.write('Epoch %3d:' % (epoch+1))\n",
    "        sys.stdout.write(' Loss: %.6f' % (train_loss/total_curr))\n",
    "        sys.stdout.write(' | Acc: %3.3f%% (%5d/%5d)' % (100.*correct/total_curr, correct, total_curr))\n",
    "        sys.stdout.write(' | %3d%%' % (100.*total_curr/total))\n",
    "        if batch_idx < len(train_loader)-1:\n",
    "            sys.stdout.write('\\r')\n",
    "    sys.stdout.write(' | Total: %d s\\n' % (time.time() - begin_time))\n",
    "    return train_loss/total, correct/total"
   ]
  },
  {
   "cell_type": "code",
   "execution_count": 11,
   "metadata": {},
   "outputs": [],
   "source": [
    "def test(model, device, test_loader, criterion):\n",
    "    model.eval()\n",
    "    test_loss = 0\n",
    "    correct = 0\n",
    "    total = len(test_loader.dataset)\n",
    "    total_curr = 0\n",
    "    with torch.no_grad():\n",
    "        for batch_idx, (data, targets) in enumerate(test_loader):\n",
    "            data, targets = data.to(device), targets.to(device)\n",
    "            outputs = model(data)\n",
    "            loss = criterion(outputs, targets)\n",
    "\n",
    "            test_loss += loss.item()\n",
    "            _, predicted = outputs.max(1)\n",
    "            total_curr += targets.size(0)\n",
    "            correct += predicted.eq(targets.view_as(predicted)).sum().item()\n",
    "\n",
    "            sys.stdout.write('Test     :')\n",
    "            sys.stdout.write(' Loss: %.6f' % (test_loss/total_curr))\n",
    "            sys.stdout.write(' | Acc: %3.3f%% (%5d/%5d)' % (100.*correct/total_curr, correct, total_curr))\n",
    "            if batch_idx < len(test_loader)-1:\n",
    "                sys.stdout.write('\\r')\n",
    "    sys.stdout.write('\\n')\n",
    "    return test_loss/total, correct/total"
   ]
  },
  {
   "cell_type": "markdown",
   "metadata": {},
   "source": [
    "## Training"
   ]
  },
  {
   "cell_type": "markdown",
   "metadata": {},
   "source": [
    "### Design the Model\n",
    "```https://github.com/ShowLo/MobileNetV3/blob/master/mobileNetV3.py```"
   ]
  },
  {
   "cell_type": "code",
   "execution_count": 12,
   "metadata": {},
   "outputs": [],
   "source": [
    "seed = 1\n",
    "random.seed(seed)\n",
    "np.random.seed(seed)\n",
    "torch.manual_seed(seed)\n",
    "torch.cuda.manual_seed(seed)\n",
    "torch.use_deterministic_algorithms(True)"
   ]
  },
  {
   "cell_type": "code",
   "execution_count": 13,
   "metadata": {
    "tags": []
   },
   "outputs": [],
   "source": [
    "class SEModule(nn.Module):\n",
    "    def __init__(self, in_planes):\n",
    "        super(SEModule, self).__init__()\n",
    "\n",
    "        self.avg_pool = nn.AdaptiveAvgPool2d(1)\n",
    "        self.linear1 = nn.Linear(in_planes, in_planes // 4, bias=False)\n",
    "        self.act1 = nn.ReLU(inplace=True)\n",
    "        self.linear2 = nn.Linear(in_planes // 4, in_planes, bias=False)\n",
    "        self.act2 = nn.Hardsigmoid(inplace=True)\n",
    "\n",
    "    def forward(self, x):\n",
    "        batch_size, channel_num, _, _ = x.size()\n",
    "        y = self.avg_pool(x).view(batch_size, channel_num)\n",
    "        y = self.act1(self.linear1(y))\n",
    "        y = self.act2(self.linear2(y))\n",
    "        y = y.view(batch_size, channel_num, 1, 1)\n",
    "        return x * y\n",
    "\n",
    "class Bottleneck(nn.Module):\n",
    "    def __init__(self, in_planes, out_planes, expansion, kernel_size, stride, use_SE, use_HS):\n",
    "        super(Bottleneck, self).__init__()\n",
    "\n",
    "        self.use_expansion = (in_planes != expansion)\n",
    "        self.use_SE = use_SE\n",
    "        self.use_residual = (stride == 1 and in_planes == out_planes)\n",
    "\n",
    "        if self.use_expansion:\n",
    "            self.conv1 = nn.Conv2d(in_planes, expansion, kernel_size=1, stride=1, padding=0, bias=False)\n",
    "            self.bn1 = nn.BatchNorm2d(expansion)\n",
    "            self.act1 = nn.Hardswish(inplace=True) if use_HS else nn.ReLU(inplace=True)\n",
    "\n",
    "        self.conv2 = nn.Conv2d(expansion, expansion, kernel_size=kernel_size, stride=stride, padding=(kernel_size-1)//2, groups=expansion, bias=False)\n",
    "        self.bn2 = nn.BatchNorm2d(expansion)\n",
    "        if self.use_SE:\n",
    "            self.se2 =  SEModule(expansion)\n",
    "        self.act2 = nn.Hardswish(inplace=True) if use_HS else nn.ReLU(inplace=True)\n",
    "\n",
    "        self.conv3 = nn.Conv2d(expansion, out_planes, kernel_size=1, stride=1, padding=0, bias=False)\n",
    "        self.bn3 = nn.BatchNorm2d(out_planes)\n",
    "\n",
    "    def forward(self, x):\n",
    "        out = self.act1(self.bn1(self.conv1(x))) if self.use_expansion else x\n",
    "        out = self.act2(self.se2(self.bn2(self.conv2(out)))) if self.use_SE else self.act2(self.bn2(self.conv2(out)))\n",
    "        out = self.bn3(self.conv3(out))\n",
    "        if self.use_residual:\n",
    "            out = out + x\n",
    "        return out\n",
    "\n",
    "class MobileNetV3(nn.Module):\n",
    "    cfg = [\n",
    "        [3, 16, 16, False, False, 1],\n",
    "        [3, 32, 24, False, False, 2],\n",
    "        [3, 48, 24, False, False, 1],\n",
    "        [3, 64, 40, False, False, 2],\n",
    "        [3, 120, 40, False, False, 1],\n",
    "        [3, 120, 48, False, False, 1],\n",
    "        [3, 144, 48, False, False, 1],\n",
    "        [3, 288, 96, False, False, 2],\n",
    "    ]\n",
    "\n",
    "    def __init__(self):\n",
    "        super(MobileNetV3, self).__init__()\n",
    "\n",
    "        in_planes = 16\n",
    "        self.layer1 = nn.Sequential(\n",
    "            nn.Conv2d(3, in_planes, kernel_size=3, stride=1, padding=1, bias=False),\n",
    "            nn.BatchNorm2d(in_planes),\n",
    "            nn.ReLU(inplace=True)\n",
    "        )\n",
    "\n",
    "        for idx, (kernel_size, expansion, out_planes, use_SE, use_HS, stride) in enumerate(self.cfg):\n",
    "            setattr(self, 'layer{}'.format(idx+2), Bottleneck(in_planes, out_planes, expansion, kernel_size, stride, use_SE, use_HS))\n",
    "            in_planes = out_planes\n",
    "\n",
    "        expansion = 288\n",
    "        self.layer10 = nn.Sequential(\n",
    "            nn.Conv2d(in_planes, expansion, kernel_size=1, stride=1, padding=0, bias=False),\n",
    "            nn.BatchNorm2d(expansion),\n",
    "            nn.ReLU(inplace=True)\n",
    "        )\n",
    "\n",
    "        self.layer11 = nn.Sequential(\n",
    "            nn.AdaptiveAvgPool2d(1),\n",
    "            nn.Conv2d(expansion, 144, kernel_size=1, stride=1, padding=0, bias=False),\n",
    "            nn.ReLU(inplace=True)\n",
    "        )\n",
    "\n",
    "        self.linear = nn.Sequential(\n",
    "            nn.Dropout(0.2),\n",
    "            nn.Linear(144, 10)\n",
    "        )\n",
    "\n",
    "        for m in self.modules():\n",
    "            if isinstance(m, nn.Conv2d):\n",
    "                nn.init.kaiming_normal_(m.weight, mode='fan_out')\n",
    "                if m.bias is not None:\n",
    "                    nn.init.constant_(m.bias, 0)\n",
    "            elif isinstance(m, nn.BatchNorm2d):\n",
    "                nn.init.constant_(m.weight, 1)\n",
    "                nn.init.constant_(m.bias, 0)\n",
    "            elif isinstance(m, nn.Linear):\n",
    "                nn.init.normal_(m.weight, std=0.001)\n",
    "                if m.bias is not None:\n",
    "                    nn.init.constant_(m.bias, 0)\n",
    "\n",
    "    def forward(self, x):\n",
    "        out = self.layer1(x)\n",
    "        for idx in range(2, 11+1):\n",
    "            out = getattr(self, 'layer{}'.format(idx))(out)\n",
    "        out = out.view(out.size(0), -1)\n",
    "        out = self.linear(out)\n",
    "        return out\n",
    "\n",
    "model = MobileNetV3()"
   ]
  },
  {
   "cell_type": "markdown",
   "metadata": {},
   "source": [
    "### Resume from the Checkpoint"
   ]
  },
  {
   "cell_type": "code",
   "execution_count": 14,
   "metadata": {},
   "outputs": [],
   "source": [
    "seed = 1\n",
    "random.seed(seed)\n",
    "np.random.seed(seed)\n",
    "torch.manual_seed(seed)\n",
    "torch.cuda.manual_seed(seed)\n",
    "torch.use_deterministic_algorithms(True)"
   ]
  },
  {
   "cell_type": "code",
   "execution_count": 15,
   "metadata": {},
   "outputs": [],
   "source": [
    "total_epochs, folds = 200, 10\n",
    "fold_images, fold_epochs = 50000 // folds, total_epochs // folds"
   ]
  },
  {
   "cell_type": "code",
   "execution_count": 16,
   "metadata": {},
   "outputs": [],
   "source": [
    "criterion = nn.CrossEntropyLoss()"
   ]
  },
  {
   "cell_type": "markdown",
   "metadata": {},
   "source": [
    "[SGDR: Stochastic Gradient Descent with Warm Restarts](https://arxiv.org/pdf/1608.03983.pdf)"
   ]
  },
  {
   "cell_type": "code",
   "execution_count": 17,
   "metadata": {},
   "outputs": [],
   "source": [
    "optimizer = optim.SGD(model.parameters(), lr=0.1, momentum=0.9, weight_decay=1e-4)\n",
    "scheduler = optim.lr_scheduler.ReduceLROnPlateau(optimizer, mode='min', factor=0.7, patience=4, verbose=True)\n",
    "#scheduler = optim.lr_scheduler.CosineAnnealingWarmRestarts(optimizer, T_0=total_epochs, T_mult=1, eta_min=0, last_epoch=-1)"
   ]
  },
  {
   "cell_type": "code",
   "execution_count": 18,
   "metadata": {},
   "outputs": [],
   "source": [
    "if os.path.isfile(MODEL_TORCH):\n",
    "    model = torch.load(MODEL_TORCH)\n",
    "\n",
    "if os.path.isfile(MODEL_TORCH_CKPT):\n",
    "    checkpoint = torch.load(MODEL_TORCH_CKPT)\n",
    "    optimizer.load_state_dict(checkpoint['optimizer'])\n",
    "    scheduler.load_state_dict(checkpoint['scheduler'])\n",
    "    epoch = start_epoch = checkpoint['epoch']\n",
    "else:\n",
    "    epoch = start_epoch = 0"
   ]
  },
  {
   "cell_type": "markdown",
   "metadata": {},
   "source": [
    "### Train the Model"
   ]
  },
  {
   "cell_type": "code",
   "execution_count": 19,
   "metadata": {},
   "outputs": [],
   "source": [
    "model = model.to(device)\n",
    "if device == 'cuda' and not isinstance(model, nn.DataParallel):\n",
    "    model = nn.DataParallel(model)"
   ]
  },
  {
   "cell_type": "code",
   "execution_count": 20,
   "metadata": {},
   "outputs": [],
   "source": [
    "seed = 1\n",
    "random.seed(seed)\n",
    "np.random.seed(seed)\n",
    "torch.manual_seed(seed)\n",
    "torch.cuda.manual_seed(seed)\n",
    "torch.use_deterministic_algorithms(True)"
   ]
  },
  {
   "cell_type": "code",
   "execution_count": 21,
   "metadata": {
    "scrolled": true,
    "tags": []
   },
   "outputs": [
    {
     "name": "stdout",
     "output_type": "stream",
     "text": [
      "Epoch   1: Loss: 0.013165 | Acc: 37.220% (16749/45000) | 100% | Total: 9 s\n",
      "Test     : Loss: 0.011165 | Acc: 48.360% ( 2418/ 5000)\n",
      "Epoch   2: Loss: 0.009997 | Acc: 54.073% (24333/45000) | 100% | Total: 7 s\n",
      "Test     : Loss: 0.009457 | Acc: 57.740% ( 2887/ 5000)\n",
      "Epoch   3: Loss: 0.008275 | Acc: 62.769% (28246/45000) | 100% | Total: 7 s\n",
      "Test     : Loss: 0.008112 | Acc: 64.340% ( 3217/ 5000)\n",
      "Epoch   4: Loss: 0.007114 | Acc: 68.324% (30746/45000) | 100% | Total: 8 s\n",
      "Test     : Loss: 0.007949 | Acc: 66.740% ( 3337/ 5000)\n",
      "Epoch   5: Loss: 0.006431 | Acc: 71.376% (32119/45000) | 100% | Total: 7 s\n",
      "Test     : Loss: 0.006042 | Acc: 73.360% ( 3668/ 5000)\n",
      "Epoch   6: Loss: 0.006056 | Acc: 73.158% (32921/45000) | 100% | Total: 8 s\n",
      "Test     : Loss: 0.007326 | Acc: 68.840% ( 3442/ 5000)\n",
      "Epoch   7: Loss: 0.005619 | Acc: 75.251% (33863/45000) | 100% | Total: 7 s\n",
      "Test     : Loss: 0.006148 | Acc: 73.480% ( 3674/ 5000)\n",
      "Epoch   8: Loss: 0.005386 | Acc: 76.456% (34405/45000) | 100% | Total: 8 s\n",
      "Test     : Loss: 0.005021 | Acc: 78.180% ( 3909/ 5000)\n",
      "Epoch   9: Loss: 0.005204 | Acc: 77.229% (34753/45000) | 100% | Total: 8 s\n",
      "Test     : Loss: 0.005332 | Acc: 76.980% ( 3849/ 5000)\n",
      "Epoch  10: Loss: 0.004975 | Acc: 78.084% (35138/45000) | 100% | Total: 7 s\n",
      "Test     : Loss: 0.004875 | Acc: 78.900% ( 3945/ 5000)\n",
      "Epoch  11: Loss: 0.004850 | Acc: 78.678% (35405/45000) | 100% | Total: 8 s\n",
      "Test     : Loss: 0.004646 | Acc: 79.200% ( 3960/ 5000)\n",
      "Epoch  12: Loss: 0.004722 | Acc: 79.133% (35610/45000) | 100% | Total: 8 s\n",
      "Test     : Loss: 0.004726 | Acc: 79.460% ( 3973/ 5000)\n",
      "Epoch  13: Loss: 0.004564 | Acc: 80.058% (36026/45000) | 100% | Total: 8 s\n",
      "Test     : Loss: 0.005257 | Acc: 77.640% ( 3882/ 5000)\n",
      "Epoch  14: Loss: 0.004572 | Acc: 79.951% (35978/45000) | 100% | Total: 8 s\n",
      "Test     : Loss: 0.004878 | Acc: 78.340% ( 3917/ 5000)\n",
      "Epoch  15: Loss: 0.004417 | Acc: 80.702% (36316/45000) | 100% | Total: 7 s\n",
      "Test     : Loss: 0.004405 | Acc: 81.000% ( 4050/ 5000)\n",
      "Epoch  16: Loss: 0.004364 | Acc: 80.718% (36323/45000) | 100% | Total: 8 s\n",
      "Test     : Loss: 0.005375 | Acc: 77.500% ( 3875/ 5000)\n",
      "Epoch  17: Loss: 0.004274 | Acc: 81.389% (36625/45000) | 100% | Total: 8 s\n",
      "Test     : Loss: 0.005084 | Acc: 79.200% ( 3960/ 5000)\n",
      "Epoch  18: Loss: 0.004181 | Acc: 81.687% (36759/45000) | 100% | Total: 8 s\n",
      "Test     : Loss: 0.004243 | Acc: 81.680% ( 4084/ 5000)\n",
      "Epoch  19: Loss: 0.004125 | Acc: 81.947% (36876/45000) | 100% | Total: 7 s\n",
      "Test     : Loss: 0.004077 | Acc: 82.340% ( 4117/ 5000)\n",
      "Epoch  20: Loss: 0.004045 | Acc: 82.067% (36930/45000) | 100% | Total: 8 s\n",
      "Test     : Loss: 0.005006 | Acc: 79.940% ( 3997/ 5000)\n",
      "Epoch  21: Loss: 0.004023 | Acc: 82.451% (37103/45000) | 100% | Total: 7 s\n",
      "Test     : Loss: 0.004723 | Acc: 79.900% ( 3995/ 5000)\n",
      "Epoch  22: Loss: 0.003964 | Acc: 82.642% (37189/45000) | 100% | Total: 8 s\n",
      "Test     : Loss: 0.004919 | Acc: 78.240% ( 3912/ 5000)\n",
      "Epoch  23: Loss: 0.003947 | Acc: 82.478% (37115/45000) | 100% | Total: 7 s\n",
      "Test     : Loss: 0.004421 | Acc: 80.680% ( 4034/ 5000)\n",
      "Epoch  24: Loss: 0.003945 | Acc: 82.613% (37176/45000) | 100% | Total: 7 s\n",
      "Test     : Loss: 0.004205 | Acc: 81.680% ( 4084/ 5000)\n",
      "Epoch  25: Loss: 0.003848 | Acc: 83.042% (37369/45000) | 100% | Total: 8 s\n",
      "Test     : Loss: 0.004217 | Acc: 81.260% ( 4063/ 5000)\n",
      "Epoch  26: Loss: 0.003880 | Acc: 82.984% (37343/45000) | 100% | Total: 7 s\n",
      "Test     : Loss: 0.004677 | Acc: 80.120% ( 4006/ 5000)\n",
      "Epoch  27: Loss: 0.003777 | Acc: 83.549% (37597/45000) | 100% | Total: 7 s\n",
      "Test     : Loss: 0.003801 | Acc: 83.080% ( 4154/ 5000)\n",
      "Epoch  28: Loss: 0.003751 | Acc: 83.649% (37642/45000) | 100% | Total: 7 s\n",
      "Test     : Loss: 0.003977 | Acc: 83.160% ( 4158/ 5000)\n",
      "Epoch  29: Loss: 0.003740 | Acc: 83.544% (37595/45000) | 100% | Total: 8 s\n",
      "Test     : Loss: 0.003896 | Acc: 83.340% ( 4167/ 5000)\n",
      "Epoch  30: Loss: 0.003692 | Acc: 83.756% (37690/45000) | 100% | Total: 8 s\n",
      "Test     : Loss: 0.004007 | Acc: 82.820% ( 4141/ 5000)\n",
      "Epoch  31: Loss: 0.003660 | Acc: 83.929% (37768/45000) | 100% | Total: 8 s\n",
      "Test     : Loss: 0.004517 | Acc: 80.780% ( 4039/ 5000)\n",
      "Epoch  32: Loss: 0.003632 | Acc: 83.987% (37794/45000) | 100% | Total: 8 s\n",
      "Test     : Loss: 0.004417 | Acc: 81.040% ( 4052/ 5000)\n",
      "Epoch  33: Loss: 0.003595 | Acc: 84.136% (37861/45000) | 100% | Total: 8 s\n",
      "Test     : Loss: 0.004572 | Acc: 80.640% ( 4032/ 5000)\n",
      "Epoch  34: Loss: 0.003598 | Acc: 83.958% (37781/45000) | 100% | Total: 8 s\n",
      "Test     : Loss: 0.003933 | Acc: 83.140% ( 4157/ 5000)\n",
      "Epoch  35: Loss: 0.003559 | Acc: 84.349% (37957/45000) | 100% | Total: 8 s\n",
      "Test     : Loss: 0.004186 | Acc: 82.480% ( 4124/ 5000)\n",
      "Epoch  36: Loss: 0.003532 | Acc: 84.360% (37962/45000) | 100% | Total: 8 s\n",
      "Test     : Loss: 0.004239 | Acc: 82.380% ( 4119/ 5000)\n",
      "Epoch  37: Loss: 0.003515 | Acc: 84.638% (38087/45000) | 100% | Total: 8 s\n",
      "Test     : Loss: 0.004326 | Acc: 81.940% ( 4097/ 5000)\n",
      "Epoch  38: Loss: 0.003498 | Acc: 84.647% (38091/45000) | 100% | Total: 8 s\n",
      "Test     : Loss: 0.003708 | Acc: 83.980% ( 4199/ 5000)\n",
      "Epoch  39: Loss: 0.003482 | Acc: 84.698% (38114/45000) | 100% | Total: 8 s\n",
      "Test     : Loss: 0.003722 | Acc: 83.620% ( 4181/ 5000)\n",
      "Epoch  40: Loss: 0.003441 | Acc: 84.833% (38175/45000) | 100% | Total: 9 s\n",
      "Test     : Loss: 0.004832 | Acc: 79.960% ( 3998/ 5000)\n",
      "Epoch  41: Loss: 0.003452 | Acc: 84.687% (38109/45000) | 100% | Total: 8 s\n",
      "Test     : Loss: 0.004174 | Acc: 82.280% ( 4114/ 5000)\n",
      "Epoch  42: Loss: 0.003425 | Acc: 84.964% (38234/45000) | 100% | Total: 8 s\n",
      "Test     : Loss: 0.004329 | Acc: 81.400% ( 4070/ 5000)\n",
      "Epoch  43: Loss: 0.003386 | Acc: 85.073% (38283/45000) | 100% | Total: 8 s\n",
      "Test     : Loss: 0.003880 | Acc: 83.280% ( 4164/ 5000)\n",
      "Epoch  44: Loss: 0.003401 | Acc: 85.000% (38250/45000) | 100% | Total: 8 s\n",
      "Test     : Loss: 0.004440 | Acc: 81.460% ( 4073/ 5000)\n",
      "Epoch  45: Loss: 0.003356 | Acc: 85.060% (38277/45000) | 100% | Total: 8 s\n",
      "Test     : Loss: 0.003728 | Acc: 83.700% ( 4185/ 5000)\n",
      "Epoch  46: Loss: 0.003414 | Acc: 84.971% (38237/45000) | 100% | Total: 8 s\n",
      "Test     : Loss: 0.004770 | Acc: 79.440% ( 3972/ 5000)\n",
      "Epoch  47: Loss: 0.003323 | Acc: 85.327% (38397/45000) | 100% | Total: 8 s\n",
      "Test     : Loss: 0.003781 | Acc: 83.620% ( 4181/ 5000)\n",
      "Epoch  48: Loss: 0.003329 | Acc: 85.531% (38489/45000) | 100% | Total: 8 s\n",
      "Test     : Loss: 0.003635 | Acc: 84.360% ( 4218/ 5000)\n",
      "Epoch  49: Loss: 0.003317 | Acc: 85.482% (38467/45000) | 100% | Total: 8 s\n",
      "Test     : Loss: 0.004041 | Acc: 82.420% ( 4121/ 5000)\n",
      "Epoch  50: Loss: 0.003307 | Acc: 85.493% (38472/45000) | 100% | Total: 7 s\n",
      "Test     : Loss: 0.003920 | Acc: 83.240% ( 4162/ 5000)\n",
      "Epoch  51: Loss: 0.003271 | Acc: 85.482% (38467/45000) | 100% | Total: 8 s\n",
      "Test     : Loss: 0.003654 | Acc: 83.900% ( 4195/ 5000)\n",
      "Epoch  52: Loss: 0.003280 | Acc: 85.576% (38509/45000) | 100% | Total: 7 s\n",
      "Test     : Loss: 0.003921 | Acc: 82.660% ( 4133/ 5000)\n",
      "Epoch  53: Loss: 0.003263 | Acc: 85.464% (38459/45000) | 100% | Total: 8 s\n",
      "Test     : Loss: 0.004429 | Acc: 82.060% ( 4103/ 5000)\n",
      "Epoch  54: Loss: 0.003251 | Acc: 85.824% (38621/45000) | 100% | Total: 8 s\n",
      "Test     : Loss: 0.004038 | Acc: 82.840% ( 4142/ 5000)\n",
      "Epoch  55: Loss: 0.003253 | Acc: 85.462% (38458/45000) | 100% | Total: 7 s\n",
      "Test     : Loss: 0.004385 | Acc: 81.740% ( 4087/ 5000)\n",
      "Epoch  56: Loss: 0.003251 | Acc: 85.716% (38572/45000) | 100% | Total: 7 s\n",
      "Test     : Loss: 0.004385 | Acc: 82.020% ( 4101/ 5000)\n",
      "Epoch  57: Loss: 0.003234 | Acc: 85.813% (38616/45000) | 100% | Total: 8 s\n",
      "Test     : Loss: 0.003764 | Acc: 83.820% ( 4191/ 5000)\n",
      "Epoch  58: Loss: 0.003233 | Acc: 85.698% (38564/45000) | 100% | Total: 7 s\n",
      "Test     : Loss: 0.003620 | Acc: 84.600% ( 4230/ 5000)\n",
      "Epoch  59: Loss: 0.003190 | Acc: 86.009% (38704/45000) | 100% | Total: 8 s\n",
      "Test     : Loss: 0.003823 | Acc: 83.500% ( 4175/ 5000)\n",
      "Epoch  60: Loss: 0.003177 | Acc: 86.027% (38712/45000) | 100% | Total: 8 s\n",
      "Test     : Loss: 0.003579 | Acc: 84.560% ( 4228/ 5000)\n",
      "Epoch  61: Loss: 0.003134 | Acc: 86.249% (38812/45000) | 100% | Total: 8 s\n",
      "Test     : Loss: 0.003991 | Acc: 82.760% ( 4138/ 5000)\n",
      "Epoch  62: Loss: 0.003161 | Acc: 85.958% (38681/45000) | 100% | Total: 8 s\n",
      "Test     : Loss: 0.004256 | Acc: 82.020% ( 4101/ 5000)\n",
      "Epoch  63: Loss: 0.003191 | Acc: 85.876% (38644/45000) | 100% | Total: 8 s\n",
      "Test     : Loss: 0.004200 | Acc: 82.640% ( 4132/ 5000)\n",
      "Epoch  64: Loss: 0.003107 | Acc: 86.282% (38827/45000) | 100% | Total: 8 s\n",
      "Test     : Loss: 0.003845 | Acc: 83.800% ( 4190/ 5000)\n",
      "Epoch  65: Loss: 0.003093 | Acc: 86.407% (38883/45000) | 100% | Total: 8 s\n",
      "Test     : Loss: 0.003911 | Acc: 83.720% ( 4186/ 5000)\n",
      "Epoch  66: Loss: 0.003153 | Acc: 86.078% (38735/45000) | 100% | Total: 8 s\n",
      "Test     : Loss: 0.004246 | Acc: 81.420% ( 4071/ 5000)\n",
      "Epoch  67: Loss: 0.003105 | Acc: 86.402% (38881/45000) | 100% | Total: 8 s\n",
      "Test     : Loss: 0.003584 | Acc: 85.200% ( 4260/ 5000)\n",
      "Epoch  68: Loss: 0.003088 | Acc: 86.253% (38814/45000) | 100% | Total: 9 s\n",
      "Test     : Loss: 0.003475 | Acc: 85.140% ( 4257/ 5000)\n",
      "Epoch  69: Loss: 0.003094 | Acc: 86.227% (38802/45000) | 100% | Total: 8 s\n",
      "Test     : Loss: 0.003442 | Acc: 85.260% ( 4263/ 5000)\n",
      "Epoch  70: Loss: 0.003059 | Acc: 86.389% (38875/45000) | 100% | Total: 8 s\n",
      "Test     : Loss: 0.003404 | Acc: 85.400% ( 4270/ 5000)\n",
      "Epoch  71: Loss: 0.003072 | Acc: 86.380% (38871/45000) | 100% | Total: 8 s\n",
      "Test     : Loss: 0.003943 | Acc: 82.760% ( 4138/ 5000)\n",
      "Epoch  72: Loss: 0.003047 | Acc: 86.504% (38927/45000) | 100% | Total: 8 s\n",
      "Test     : Loss: 0.003692 | Acc: 84.760% ( 4238/ 5000)\n",
      "Epoch  73: Loss: 0.003030 | Acc: 86.613% (38976/45000) | 100% | Total: 8 s\n",
      "Test     : Loss: 0.003619 | Acc: 84.500% ( 4225/ 5000)\n",
      "Epoch  74: Loss: 0.003053 | Acc: 86.767% (39045/45000) | 100% | Total: 8 s\n",
      "Test     : Loss: 0.003673 | Acc: 84.660% ( 4233/ 5000)\n",
      "Epoch  75: Loss: 0.003049 | Acc: 86.462% (38908/45000) | 100% | Total: 8 s\n",
      "Test     : Loss: 0.003927 | Acc: 83.800% ( 4190/ 5000)\n",
      "Epoch  76: Loss: 0.003065 | Acc: 86.598% (38969/45000) | 100% | Total: 8 s\n",
      "Test     : Loss: 0.003405 | Acc: 85.020% ( 4251/ 5000)\n",
      "Epoch  77: Loss: 0.003031 | Acc: 86.587% (38964/45000) | 100% | Total: 8 s\n",
      "Test     : Loss: 0.003461 | Acc: 84.940% ( 4247/ 5000)\n",
      "Epoch  78: Loss: 0.003000 | Acc: 86.696% (39013/45000) | 100% | Total: 8 s\n",
      "Test     : Loss: 0.003393 | Acc: 85.220% ( 4261/ 5000)\n",
      "Epoch  79: Loss: 0.003050 | Acc: 86.489% (38920/45000) | 100% | Total: 8 s\n",
      "Test     : Loss: 0.003594 | Acc: 83.840% ( 4192/ 5000)\n",
      "Epoch  80: Loss: 0.002968 | Acc: 86.898% (39104/45000) | 100% | Total: 8 s\n",
      "Test     : Loss: 0.004001 | Acc: 83.280% ( 4164/ 5000)\n",
      "Epoch  81: Loss: 0.003009 | Acc: 86.644% (38990/45000) | 100% | Total: 8 s\n",
      "Test     : Loss: 0.003652 | Acc: 84.260% ( 4213/ 5000)\n",
      "Epoch  82: Loss: 0.002956 | Acc: 86.887% (39099/45000) | 100% | Total: 8 s\n",
      "Test     : Loss: 0.004349 | Acc: 81.660% ( 4083/ 5000)\n",
      "Epoch  83: Loss: 0.003014 | Acc: 86.707% (39018/45000) | 100% | Total: 9 s\n",
      "Test     : Loss: 0.004140 | Acc: 83.220% ( 4161/ 5000)\n",
      "Epoch  84: Loss: 0.002975 | Acc: 86.760% (39042/45000) | 100% | Total: 8 s\n",
      "Test     : Loss: 0.003146 | Acc: 86.440% ( 4322/ 5000)\n",
      "Epoch  85: Loss: 0.002967 | Acc: 86.984% (39143/45000) | 100% | Total: 8 s\n",
      "Test     : Loss: 0.003607 | Acc: 84.520% ( 4226/ 5000)\n",
      "Epoch  86: Loss: 0.002994 | Acc: 86.831% (39074/45000) | 100% | Total: 8 s\n",
      "Test     : Loss: 0.004509 | Acc: 81.360% ( 4068/ 5000)\n",
      "Epoch  87: Loss: 0.002963 | Acc: 86.953% (39129/45000) | 100% | Total: 8 s\n",
      "Test     : Loss: 0.003629 | Acc: 84.840% ( 4242/ 5000)\n",
      "Epoch 00087: reducing learning rate of group 0 to 7.0000e-02.\n",
      "Epoch  88: Loss: 0.002525 | Acc: 88.796% (39958/45000) | 100% | Total: 8 s\n",
      "Test     : Loss: 0.003122 | Acc: 86.720% ( 4336/ 5000)\n",
      "Epoch  89: Loss: 0.002497 | Acc: 89.042% (40069/45000) | 100% | Total: 8 s\n",
      "Test     : Loss: 0.002773 | Acc: 88.260% ( 4413/ 5000)\n",
      "Epoch  90: Loss: 0.002555 | Acc: 88.687% (39909/45000) | 100% | Total: 8 s\n",
      "Test     : Loss: 0.002790 | Acc: 88.280% ( 4414/ 5000)\n",
      "Epoch  91: Loss: 0.002475 | Acc: 89.020% (40059/45000) | 100% | Total: 8 s\n",
      "Test     : Loss: 0.003200 | Acc: 86.500% ( 4325/ 5000)\n",
      "Epoch  92: Loss: 0.002492 | Acc: 88.929% (40018/45000) | 100% | Total: 8 s\n",
      "Test     : Loss: 0.003025 | Acc: 86.760% ( 4338/ 5000)\n",
      "Epoch  93: Loss: 0.002474 | Acc: 88.902% (40006/45000) | 100% | Total: 8 s\n",
      "Test     : Loss: 0.002834 | Acc: 87.820% ( 4391/ 5000)\n",
      "Epoch  94: Loss: 0.002507 | Acc: 88.882% (39997/45000) | 100% | Total: 8 s\n",
      "Test     : Loss: 0.002982 | Acc: 87.660% ( 4383/ 5000)\n",
      "Epoch  95: Loss: 0.002498 | Acc: 88.902% (40006/45000) | 100% | Total: 8 s\n",
      "Test     : Loss: 0.003172 | Acc: 86.180% ( 4309/ 5000)\n",
      "Epoch  96: Loss: 0.002478 | Acc: 89.016% (40057/45000) | 100% | Total: 8 s\n",
      "Test     : Loss: 0.003183 | Acc: 86.620% ( 4331/ 5000)\n",
      "Epoch  97: Loss: 0.002490 | Acc: 88.811% (39965/45000) | 100% | Total: 8 s\n",
      "Test     : Loss: 0.003131 | Acc: 86.160% ( 4308/ 5000)\n",
      "Epoch  98: Loss: 0.002485 | Acc: 88.969% (40036/45000) | 100% | Total: 8 s\n",
      "Test     : Loss: 0.003139 | Acc: 86.320% ( 4316/ 5000)\n",
      "Epoch 00098: reducing learning rate of group 0 to 4.9000e-02.\n",
      "Epoch  99: Loss: 0.002178 | Acc: 90.376% (40669/45000) | 100% | Total: 8 s\n",
      "Test     : Loss: 0.002963 | Acc: 87.460% ( 4373/ 5000)\n",
      "Epoch 100: Loss: 0.002089 | Acc: 90.776% (40849/45000) | 100% | Total: 8 s\n",
      "Test     : Loss: 0.002719 | Acc: 89.000% ( 4450/ 5000)\n",
      "Epoch 101: Loss: 0.002089 | Acc: 90.553% (40749/45000) | 100% | Total: 8 s\n",
      "Test     : Loss: 0.002760 | Acc: 88.280% ( 4414/ 5000)\n",
      "Epoch 102: Loss: 0.002078 | Acc: 90.598% (40769/45000) | 100% | Total: 8 s\n",
      "Test     : Loss: 0.003359 | Acc: 86.140% ( 4307/ 5000)\n",
      "Epoch 103: Loss: 0.002081 | Acc: 90.684% (40808/45000) | 100% | Total: 7 s\n",
      "Test     : Loss: 0.002857 | Acc: 88.200% ( 4410/ 5000)\n",
      "Epoch 104: Loss: 0.002067 | Acc: 90.831% (40874/45000) | 100% | Total: 8 s\n",
      "Test     : Loss: 0.003183 | Acc: 87.160% ( 4358/ 5000)\n",
      "Epoch 105: Loss: 0.002058 | Acc: 90.702% (40816/45000) | 100% | Total: 8 s\n",
      "Test     : Loss: 0.002841 | Acc: 88.500% ( 4425/ 5000)\n",
      "Epoch 106: Loss: 0.002104 | Acc: 90.598% (40769/45000) | 100% | Total: 8 s\n",
      "Test     : Loss: 0.002689 | Acc: 88.120% ( 4406/ 5000)\n",
      "Epoch 107: Loss: 0.002072 | Acc: 90.860% (40887/45000) | 100% | Total: 8 s\n",
      "Test     : Loss: 0.002707 | Acc: 88.760% ( 4438/ 5000)\n",
      "Epoch 108: Loss: 0.002089 | Acc: 90.784% (40853/45000) | 100% | Total: 8 s\n",
      "Test     : Loss: 0.002840 | Acc: 88.280% ( 4414/ 5000)\n",
      "Epoch 109: Loss: 0.002091 | Acc: 90.622% (40780/45000) | 100% | Total: 8 s\n",
      "Test     : Loss: 0.002670 | Acc: 88.600% ( 4430/ 5000)\n",
      "Epoch 110: Loss: 0.002090 | Acc: 90.551% (40748/45000) | 100% | Total: 8 s\n",
      "Test     : Loss: 0.002593 | Acc: 88.580% ( 4429/ 5000)\n",
      "Epoch 00110: reducing learning rate of group 0 to 3.4300e-02.\n",
      "Epoch 111: Loss: 0.001831 | Acc: 91.813% (41316/45000) | 100% | Total: 8 s\n",
      "Test     : Loss: 0.002361 | Acc: 90.080% ( 4504/ 5000)\n",
      "Epoch 112: Loss: 0.001763 | Acc: 92.056% (41425/45000) | 100% | Total: 8 s\n",
      "Test     : Loss: 0.002638 | Acc: 89.180% ( 4459/ 5000)\n",
      "Epoch 113: Loss: 0.001752 | Acc: 91.989% (41395/45000) | 100% | Total: 8 s\n",
      "Test     : Loss: 0.002599 | Acc: 89.100% ( 4455/ 5000)\n",
      "Epoch 114: Loss: 0.001762 | Acc: 92.058% (41426/45000) | 100% | Total: 8 s\n",
      "Test     : Loss: 0.002667 | Acc: 89.060% ( 4453/ 5000)\n",
      "Epoch 115: Loss: 0.001743 | Acc: 92.191% (41486/45000) | 100% | Total: 8 s\n",
      "Test     : Loss: 0.002603 | Acc: 89.860% ( 4493/ 5000)\n",
      "Epoch 116: Loss: 0.001741 | Acc: 92.180% (41481/45000) | 100% | Total: 8 s\n",
      "Test     : Loss: 0.002825 | Acc: 88.520% ( 4426/ 5000)\n",
      "Epoch 117: Loss: 0.001709 | Acc: 92.256% (41515/45000) | 100% | Total: 8 s\n",
      "Test     : Loss: 0.002730 | Acc: 88.560% ( 4428/ 5000)\n",
      "Epoch 118: Loss: 0.001719 | Acc: 92.322% (41545/45000) | 100% | Total: 8 s\n",
      "Test     : Loss: 0.002783 | Acc: 88.600% ( 4430/ 5000)\n",
      "Epoch 119: Loss: 0.001744 | Acc: 92.224% (41501/45000) | 100% | Total: 8 s\n",
      "Test     : Loss: 0.002921 | Acc: 87.560% ( 4378/ 5000)\n",
      "Epoch 120: Loss: 0.001741 | Acc: 92.358% (41561/45000) | 100% | Total: 7 s\n",
      "Test     : Loss: 0.002621 | Acc: 89.200% ( 4460/ 5000)\n",
      "Epoch 121: Loss: 0.001739 | Acc: 92.111% (41450/45000) | 100% | Total: 8 s\n",
      "Test     : Loss: 0.002786 | Acc: 89.080% ( 4454/ 5000)\n",
      "Epoch 122: Loss: 0.001736 | Acc: 92.056% (41425/45000) | 100% | Total: 8 s\n",
      "Test     : Loss: 0.002805 | Acc: 88.700% ( 4435/ 5000)\n",
      "Epoch 00122: reducing learning rate of group 0 to 2.4010e-02.\n",
      "Epoch 123: Loss: 0.001544 | Acc: 93.082% (41887/45000) | 100% | Total: 8 s\n",
      "Test     : Loss: 0.002352 | Acc: 90.260% ( 4513/ 5000)\n",
      "Epoch 124: Loss: 0.001459 | Acc: 93.453% (42054/45000) | 100% | Total: 8 s\n",
      "Test     : Loss: 0.002493 | Acc: 89.660% ( 4483/ 5000)\n",
      "Epoch 125: Loss: 0.001428 | Acc: 93.507% (42078/45000) | 100% | Total: 8 s\n",
      "Test     : Loss: 0.002580 | Acc: 89.880% ( 4494/ 5000)\n",
      "Epoch 126: Loss: 0.001460 | Acc: 93.358% (42011/45000) | 100% | Total: 8 s\n",
      "Test     : Loss: 0.002624 | Acc: 89.780% ( 4489/ 5000)\n",
      "Epoch 127: Loss: 0.001462 | Acc: 93.389% (42025/45000) | 100% | Total: 8 s\n",
      "Test     : Loss: 0.002414 | Acc: 89.800% ( 4490/ 5000)\n",
      "Epoch 128: Loss: 0.001429 | Acc: 93.433% (42045/45000) | 100% | Total: 8 s\n",
      "Test     : Loss: 0.002619 | Acc: 89.720% ( 4486/ 5000)\n",
      "Epoch 129: Loss: 0.001439 | Acc: 93.518% (42083/45000) | 100% | Total: 8 s\n",
      "Test     : Loss: 0.002749 | Acc: 89.120% ( 4456/ 5000)\n",
      "Epoch 130: Loss: 0.001425 | Acc: 93.493% (42072/45000) | 100% | Total: 8 s\n",
      "Test     : Loss: 0.002457 | Acc: 90.320% ( 4516/ 5000)\n",
      "Epoch 131: Loss: 0.001447 | Acc: 93.516% (42082/45000) | 100% | Total: 8 s\n",
      "Test     : Loss: 0.002484 | Acc: 90.080% ( 4504/ 5000)\n",
      "Epoch 132: Loss: 0.001447 | Acc: 93.389% (42025/45000) | 100% | Total: 8 s\n",
      "Test     : Loss: 0.002655 | Acc: 89.740% ( 4487/ 5000)\n",
      "Epoch 133: Loss: 0.001428 | Acc: 93.467% (42060/45000) | 100% | Total: 8 s\n",
      "Test     : Loss: 0.002908 | Acc: 88.840% ( 4442/ 5000)\n",
      "Epoch 134: Loss: 0.001437 | Acc: 93.527% (42087/45000) | 100% | Total: 8 s\n",
      "Test     : Loss: 0.002740 | Acc: 89.300% ( 4465/ 5000)\n",
      "Epoch 135: Loss: 0.001449 | Acc: 93.436% (42046/45000) | 100% | Total: 8 s\n",
      "Test     : Loss: 0.002883 | Acc: 88.900% ( 4445/ 5000)\n",
      "Epoch 00135: reducing learning rate of group 0 to 1.6807e-02.\n",
      "Epoch 136: Loss: 0.001259 | Acc: 94.349% (42457/45000) | 100% | Total: 8 s\n",
      "Test     : Loss: 0.002405 | Acc: 90.400% ( 4520/ 5000)\n",
      "Epoch 137: Loss: 0.001206 | Acc: 94.458% (42506/45000) | 100% | Total: 8 s\n",
      "Test     : Loss: 0.002597 | Acc: 90.360% ( 4518/ 5000)\n",
      "Epoch 138: Loss: 0.001185 | Acc: 94.502% (42526/45000) | 100% | Total: 7 s\n",
      "Test     : Loss: 0.002548 | Acc: 90.360% ( 4518/ 5000)\n",
      "Epoch 139: Loss: 0.001217 | Acc: 94.487% (42519/45000) | 100% | Total: 8 s\n",
      "Test     : Loss: 0.002586 | Acc: 89.960% ( 4498/ 5000)\n",
      "Epoch 140: Loss: 0.001174 | Acc: 94.656% (42595/45000) | 100% | Total: 8 s\n",
      "Test     : Loss: 0.002558 | Acc: 89.820% ( 4491/ 5000)\n",
      "Epoch 141: Loss: 0.001197 | Acc: 94.580% (42561/45000) | 100% | Total: 8 s\n",
      "Test     : Loss: 0.002552 | Acc: 90.040% ( 4502/ 5000)\n",
      "Epoch 142: Loss: 0.001174 | Acc: 94.700% (42615/45000) | 100% | Total: 8 s\n",
      "Test     : Loss: 0.002604 | Acc: 90.020% ( 4501/ 5000)\n",
      "Epoch 143: Loss: 0.001204 | Acc: 94.571% (42557/45000) | 100% | Total: 8 s\n",
      "Test     : Loss: 0.002391 | Acc: 90.300% ( 4515/ 5000)\n",
      "Epoch 144: Loss: 0.001176 | Acc: 94.718% (42623/45000) | 100% | Total: 8 s\n",
      "Test     : Loss: 0.002501 | Acc: 90.260% ( 4513/ 5000)\n",
      "Epoch 145: Loss: 0.001157 | Acc: 94.800% (42660/45000) | 100% | Total: 8 s\n",
      "Test     : Loss: 0.002575 | Acc: 89.720% ( 4486/ 5000)\n",
      "Epoch 146: Loss: 0.001187 | Acc: 94.589% (42565/45000) | 100% | Total: 8 s\n",
      "Test     : Loss: 0.002518 | Acc: 90.100% ( 4505/ 5000)\n",
      "Epoch 147: Loss: 0.001178 | Acc: 94.633% (42585/45000) | 100% | Total: 8 s\n",
      "Test     : Loss: 0.002477 | Acc: 90.360% ( 4518/ 5000)\n",
      "Epoch 148: Loss: 0.001146 | Acc: 94.853% (42684/45000) | 100% | Total: 8 s\n",
      "Test     : Loss: 0.002686 | Acc: 89.760% ( 4488/ 5000)\n",
      "Epoch 149: Loss: 0.001158 | Acc: 94.711% (42620/45000) | 100% | Total: 8 s\n",
      "Test     : Loss: 0.002421 | Acc: 90.440% ( 4522/ 5000)\n",
      "Epoch 150: Loss: 0.001162 | Acc: 94.607% (42573/45000) | 100% | Total: 8 s\n",
      "Test     : Loss: 0.002486 | Acc: 90.260% ( 4513/ 5000)\n",
      "Epoch 151: Loss: 0.001166 | Acc: 94.571% (42557/45000) | 100% | Total: 8 s\n",
      "Test     : Loss: 0.002510 | Acc: 89.960% ( 4498/ 5000)\n",
      "Epoch 152: Loss: 0.001154 | Acc: 94.742% (42634/45000) | 100% | Total: 8 s\n",
      "Test     : Loss: 0.002679 | Acc: 89.920% ( 4496/ 5000)\n",
      "Epoch 153: Loss: 0.001149 | Acc: 94.782% (42652/45000) | 100% | Total: 8 s\n",
      "Test     : Loss: 0.002787 | Acc: 89.520% ( 4476/ 5000)\n",
      "Epoch 00153: reducing learning rate of group 0 to 1.1765e-02.\n",
      "Epoch 154: Loss: 0.001053 | Acc: 95.118% (42803/45000) | 100% | Total: 8 s\n",
      "Test     : Loss: 0.002484 | Acc: 90.460% ( 4523/ 5000)\n",
      "Epoch 155: Loss: 0.000967 | Acc: 95.627% (43032/45000) | 100% | Total: 8 s\n",
      "Test     : Loss: 0.002543 | Acc: 90.300% ( 4515/ 5000)\n",
      "Epoch 156: Loss: 0.000982 | Acc: 95.602% (43021/45000) | 100% | Total: 8 s\n",
      "Test     : Loss: 0.002594 | Acc: 90.360% ( 4518/ 5000)\n",
      "Epoch 157: Loss: 0.000960 | Acc: 95.651% (43043/45000) | 100% | Total: 8 s\n",
      "Test     : Loss: 0.002626 | Acc: 90.060% ( 4503/ 5000)\n",
      "Epoch 158: Loss: 0.000949 | Acc: 95.738% (43082/45000) | 100% | Total: 8 s\n",
      "Test     : Loss: 0.002534 | Acc: 90.460% ( 4523/ 5000)\n",
      "Epoch 159: Loss: 0.000953 | Acc: 95.704% (43067/45000) | 100% | Total: 8 s\n",
      "Test     : Loss: 0.002683 | Acc: 90.240% ( 4512/ 5000)\n",
      "Epoch 160: Loss: 0.000973 | Acc: 95.540% (42993/45000) | 100% | Total: 9 s\n",
      "Test     : Loss: 0.002522 | Acc: 90.480% ( 4524/ 5000)\n",
      "Epoch 161: Loss: 0.000944 | Acc: 95.678% (43055/45000) | 100% | Total: 8 s\n",
      "Test     : Loss: 0.002681 | Acc: 90.120% ( 4506/ 5000)\n",
      "Epoch 162: Loss: 0.000939 | Acc: 95.700% (43065/45000) | 100% | Total: 7 s\n",
      "Test     : Loss: 0.002707 | Acc: 90.420% ( 4521/ 5000)\n",
      "Epoch 163: Loss: 0.000954 | Acc: 95.607% (43023/45000) | 100% | Total: 8 s\n",
      "Test     : Loss: 0.002575 | Acc: 90.220% ( 4511/ 5000)\n",
      "Epoch 164: Loss: 0.000936 | Acc: 95.722% (43075/45000) | 100% | Total: 8 s\n",
      "Test     : Loss: 0.002643 | Acc: 90.060% ( 4503/ 5000)\n",
      "Epoch 165: Loss: 0.000922 | Acc: 95.827% (43122/45000) | 100%% | Total: 8 s\n",
      "Test     : Loss: 0.002757 | Acc: 90.280% ( 4514/ 5000)\n",
      "Epoch 166: Loss: 0.000963 | Acc: 95.513% (42981/45000) | 100% | Total: 8 s\n",
      "Test     : Loss: 0.002730 | Acc: 90.080% ( 4504/ 5000)\n",
      "Epoch 167: Loss: 0.000957 | Acc: 95.571% (43007/45000) | 100% | Total: 7 s\n",
      "Test     : Loss: 0.002669 | Acc: 90.140% ( 4507/ 5000)\n",
      "Epoch 168: Loss: 0.000936 | Acc: 95.764% (43094/45000) | 100% | Total: 8 s\n",
      "Test     : Loss: 0.002842 | Acc: 90.120% ( 4506/ 5000)\n",
      "Epoch 169: Loss: 0.000920 | Acc: 95.744% (43085/45000) | 100% | Total: 8 s\n",
      "Test     : Loss: 0.002676 | Acc: 89.900% ( 4495/ 5000)\n",
      "Epoch 170: Loss: 0.000900 | Acc: 95.924% (43166/45000) | 100% | Total: 8 s\n",
      "Test     : Loss: 0.002641 | Acc: 90.320% ( 4516/ 5000)\n",
      "Epoch 171: Loss: 0.000938 | Acc: 95.729% (43078/45000) | 100% | Total: 8 s\n",
      "Test     : Loss: 0.002552 | Acc: 90.460% ( 4523/ 5000)\n",
      "Epoch 172: Loss: 0.000908 | Acc: 95.851% (43133/45000) | 100% | Total: 8 s\n",
      "Test     : Loss: 0.002787 | Acc: 89.740% ( 4487/ 5000)\n",
      "Epoch 173: Loss: 0.000920 | Acc: 95.833% (43125/45000) | 100% | Total: 8 s\n",
      "Test     : Loss: 0.002717 | Acc: 90.020% ( 4501/ 5000)\n",
      "Epoch 174: Loss: 0.000968 | Acc: 95.624% (43031/45000) | 100% | Total: 8 s\n",
      "Test     : Loss: 0.002915 | Acc: 89.160% ( 4458/ 5000)\n",
      "Epoch 175: Loss: 0.000926 | Acc: 95.842% (43129/45000) | 100% | Total: 8 s\n",
      "Test     : Loss: 0.002893 | Acc: 89.760% ( 4488/ 5000)\n",
      "Epoch 00175: reducing learning rate of group 0 to 8.2354e-03.\n",
      "Epoch 176: Loss: 0.000853 | Acc: 96.093% (43242/45000) | 100% | Total: 8 s\n",
      "Test     : Loss: 0.002643 | Acc: 90.620% ( 4531/ 5000)\n",
      "Epoch 177: Loss: 0.000777 | Acc: 96.442% (43399/45000) | 100% | Total: 8 s\n",
      "Test     : Loss: 0.002683 | Acc: 90.320% ( 4516/ 5000)\n",
      "Epoch 178: Loss: 0.000755 | Acc: 96.562% (43453/45000) | 100% | Total: 8 s\n",
      "Test     : Loss: 0.002676 | Acc: 90.340% ( 4517/ 5000)\n",
      "Epoch 179: Loss: 0.000760 | Acc: 96.593% (43467/45000) | 100% | Total: 8 s\n",
      "Test     : Loss: 0.002839 | Acc: 89.780% ( 4489/ 5000)\n",
      "Epoch 180: Loss: 0.000777 | Acc: 96.476% (43414/45000) | 100% | Total: 8 s\n",
      "Test     : Loss: 0.002747 | Acc: 90.340% ( 4517/ 5000)\n",
      "Epoch 181: Loss: 0.000759 | Acc: 96.567% (43455/45000) | 100% | Total: 8 s\n",
      "Test     : Loss: 0.002845 | Acc: 89.900% ( 4495/ 5000)\n",
      "Epoch 182: Loss: 0.000748 | Acc: 96.573% (43458/45000) | 100% | Total: 8 s\n",
      "Test     : Loss: 0.002837 | Acc: 90.540% ( 4527/ 5000)\n",
      "Epoch 183: Loss: 0.000763 | Acc: 96.498% (43424/45000) | 100% | Total: 8 s\n",
      "Test     : Loss: 0.002719 | Acc: 90.480% ( 4524/ 5000)\n",
      "Epoch 184: Loss: 0.000756 | Acc: 96.589% (43465/45000) | 100% | Total: 8 s\n",
      "Test     : Loss: 0.002743 | Acc: 90.480% ( 4524/ 5000)\n",
      "Epoch 185: Loss: 0.000735 | Acc: 96.569% (43456/45000) | 100% | Total: 8 s\n",
      "Test     : Loss: 0.002755 | Acc: 90.540% ( 4527/ 5000)\n",
      "Epoch 186: Loss: 0.000772 | Acc: 96.416% (43387/45000) | 100% | Total: 8 s\n",
      "Test     : Loss: 0.002751 | Acc: 90.320% ( 4516/ 5000)\n",
      "Epoch 187: Loss: 0.000728 | Acc: 96.629% (43483/45000) | 100% | Total: 8 s\n",
      "Test     : Loss: 0.002773 | Acc: 90.300% ( 4515/ 5000)\n",
      "Epoch 188: Loss: 0.000744 | Acc: 96.631% (43484/45000) | 100% | Total: 8 s\n",
      "Test     : Loss: 0.002939 | Acc: 89.880% ( 4494/ 5000)\n",
      "Epoch 189: Loss: 0.000726 | Acc: 96.618% (43478/45000) | 100% | Total: 8 s\n",
      "Test     : Loss: 0.002806 | Acc: 90.200% ( 4510/ 5000)\n",
      "Epoch 190: Loss: 0.000715 | Acc: 96.742% (43534/45000) | 100% | Total: 8 s\n",
      "Test     : Loss: 0.002767 | Acc: 89.780% ( 4489/ 5000)\n",
      "Epoch 191: Loss: 0.000738 | Acc: 96.644% (43490/45000) | 100% | Total: 8 s\n",
      "Test     : Loss: 0.002689 | Acc: 90.360% ( 4518/ 5000)\n",
      "Epoch 192: Loss: 0.000725 | Acc: 96.680% (43506/45000) | 100% | Total: 8 s\n",
      "Test     : Loss: 0.002735 | Acc: 90.640% ( 4532/ 5000)\n",
      "Epoch 193: Loss: 0.000708 | Acc: 96.771% (43547/45000) | 100% | Total: 8 s\n",
      "Test     : Loss: 0.002778 | Acc: 90.220% ( 4511/ 5000)\n",
      "Epoch 194: Loss: 0.000748 | Acc: 96.678% (43505/45000) | 100% | Total: 8 s\n",
      "Test     : Loss: 0.003000 | Acc: 89.640% ( 4482/ 5000)\n",
      "Epoch 195: Loss: 0.000719 | Acc: 96.684% (43508/45000) | 100% | Total: 8 s\n",
      "Test     : Loss: 0.002793 | Acc: 90.300% ( 4515/ 5000)\n",
      "Epoch 196: Loss: 0.000775 | Acc: 96.453% (43404/45000) | 100% | Total: 8 s\n",
      "Test     : Loss: 0.002811 | Acc: 90.260% ( 4513/ 5000)\n",
      "Epoch 197: Loss: 0.000751 | Acc: 96.598% (43469/45000) | 100% | Total: 8 s\n",
      "Test     : Loss: 0.002725 | Acc: 90.400% ( 4520/ 5000)\n",
      "Epoch 198: Loss: 0.000728 | Acc: 96.682% (43507/45000) | 100% | Total: 8 s\n",
      "Test     : Loss: 0.002871 | Acc: 90.240% ( 4512/ 5000)\n",
      "Epoch 00198: reducing learning rate of group 0 to 5.7648e-03.\n",
      "Epoch 199: Loss: 0.000660 | Acc: 97.000% (43650/45000) | 100% | Total: 8 s\n",
      "Test     : Loss: 0.002890 | Acc: 90.060% ( 4503/ 5000)\n",
      "Epoch 200: Loss: 0.000632 | Acc: 97.220% (43749/45000) | 100% | Total: 8 s\n",
      "Test     : Loss: 0.002840 | Acc: 90.680% ( 4534/ 5000)\n"
     ]
    }
   ],
   "source": [
    "class history_model: pass\n",
    "history = tf.keras.callbacks.History()\n",
    "history.set_model(history_model)\n",
    "\n",
    "history.on_train_begin()\n",
    "for epoch in range(start_epoch, start_epoch+total_epochs):\n",
    "    k = (epoch // fold_epochs) // folds\n",
    "    if epoch % fold_epochs == 0:\n",
    "        train_gen = torch.Generator()\n",
    "        train_gen.manual_seed(1)\n",
    "\n",
    "        train_loader = DataLoader(\n",
    "            Subset(trainset, [*range(0, k*fold_images), *range((k+1)*fold_images, 50000)]),\n",
    "            batch_size=128,\n",
    "            shuffle=True,\n",
    "            num_workers=6,\n",
    "            worker_init_fn=seed_worker,\n",
    "            pin_memory=True,\n",
    "            generator=train_gen\n",
    "        )\n",
    "        validate_loader = DataLoader(\n",
    "            Subset(validateset, range(k*fold_images, (k+1)*fold_images)),\n",
    "            batch_size=128,\n",
    "            num_workers=6,\n",
    "            pin_memory=True\n",
    "        )\n",
    "        test_loader = DataLoader(Subset(testset, range(0, 350)), batch_size=50, num_workers=6, pin_memory=True)\n",
    "\n",
    "    l1, a1 = train(model, device, train_loader, optimizer, criterion, epoch)\n",
    "    l2, a2 = test(model, device, validate_loader, criterion)\n",
    "    scheduler.step(l1)\n",
    "    history.on_epoch_end(epoch, logs={\n",
    "        'loss': l1,\n",
    "        'accuracy': a1,\n",
    "        'val_loss': l2,\n",
    "        'val_accuracy': a2\n",
    "    })\n",
    "    if (a2 <= np.array(history.history['val_accuracy'])).sum() <= 1:\n",
    "        torch.save(model.module, MODELS_DIR + f'model_torch_{epoch+1}.pth')\n",
    "        torch.save(model.module, MODEL_TORCH)"
   ]
  },
  {
   "cell_type": "code",
   "execution_count": 22,
   "metadata": {},
   "outputs": [],
   "source": [
    "if device == 'cuda' and isinstance(model, nn.DataParallel):\n",
    "    model = model.module\n",
    "model = model.to('cpu')"
   ]
  },
  {
   "cell_type": "code",
   "execution_count": 23,
   "metadata": {},
   "outputs": [],
   "source": [
    "torch.save(model, MODEL_TORCH)"
   ]
  },
  {
   "cell_type": "raw",
   "metadata": {},
   "source": [
    "torch.save({\n",
    "    'optimizer': optimizer.state_dict(),\n",
    "    'scheduler': scheduler.state_dict(),\n",
    "    'epoch': epoch\n",
    "}, MODEL_TORCH_CKPT)"
   ]
  },
  {
   "cell_type": "markdown",
   "metadata": {},
   "source": [
    "### Plot Metrics"
   ]
  },
  {
   "cell_type": "markdown",
   "metadata": {},
   "source": [
    "**Loss**"
   ]
  },
  {
   "cell_type": "code",
   "execution_count": 24,
   "metadata": {
    "tags": []
   },
   "outputs": [
    {
     "data": {
      "image/png": "[encoded data removed]",
      "text/plain": [
       "<Figure size 640x480 with 1 Axes>"
      ]
     },
     "metadata": {},
     "output_type": "display_data"
    }
   ],
   "source": [
    "train_loss = history.history['loss']\n",
    "val_loss = history.history['val_loss']\n",
    "\n",
    "epochs = range(1, len(train_loss) + 1)\n",
    "\n",
    "plt.plot(epochs, train_loss, 'g.', label='Training loss')\n",
    "plt.plot(epochs, val_loss, 'b', label='Validation loss')\n",
    "plt.xlim(left=6)\n",
    "plt.title('Training and validation loss')\n",
    "plt.xlabel('Epochs')\n",
    "plt.ylabel('Loss')\n",
    "plt.legend()\n",
    "plt.show()"
   ]
  },
  {
   "cell_type": "markdown",
   "metadata": {},
   "source": [
    "**Accuracy**"
   ]
  },
  {
   "cell_type": "code",
   "execution_count": 25,
   "metadata": {},
   "outputs": [
    {
     "data": {
      "image/png": "[encoded data removed]",
      "text/plain": [
       "<Figure size 640x480 with 1 Axes>"
      ]
     },
     "metadata": {},
     "output_type": "display_data"
    }
   ],
   "source": [
    "plt.clf()\n",
    "\n",
    "# Draw a graph of accuracy, which is another way of measuring the amount\n",
    "# of error in the prediction.\n",
    "train_acc = history.history['accuracy']\n",
    "val_acc = history.history['val_accuracy']\n",
    "\n",
    "plt.plot(epochs, train_acc, 'g.', label='Training Accuracy')\n",
    "plt.plot(epochs, val_acc, 'b', label='Validation Accuracy')\n",
    "plt.axhline(y=0.9, c='k', ls=':')\n",
    "plt.xlim(left=6)\n",
    "plt.title('Training and validation accuracy')\n",
    "plt.xlabel('Epochs')\n",
    "plt.ylabel('Accuracy')\n",
    "plt.legend()\n",
    "plt.show()"
   ]
  },
  {
   "cell_type": "markdown",
   "metadata": {},
   "source": [
    "## Generate a TensorFlow Lite Model"
   ]
  },
  {
   "cell_type": "markdown",
   "metadata": {},
   "source": [
    "### Check PyTorch Accuracy"
   ]
  },
  {
   "cell_type": "code",
   "execution_count": 26,
   "metadata": {},
   "outputs": [
    {
     "name": "stdout",
     "output_type": "stream",
     "text": [
      "Test     : Loss: 0.005130 | Acc: 90.857% (  318/  350)\n"
     ]
    }
   ],
   "source": [
    "model_torch = torch.load(MODELS_DIR + 'model_torch.pth')\n",
    "if device == 'cuda' and isinstance(model_torch, nn.DataParallel):\n",
    "    model_torch = model_torch.module\n",
    "model_torch = model_torch.to('cpu')\n",
    "test_loader = DataLoader(Subset(testset, range(0, 350)), batch_size=50, num_workers=6, pin_memory=True)\n",
    "_, _ = test(model_torch, 'cpu', test_loader, nn.CrossEntropyLoss())"
   ]
  },
  {
   "cell_type": "markdown",
   "metadata": {},
   "source": [
    "### PyTorch to ONNX"
   ]
  },
  {
   "cell_type": "code",
   "execution_count": 27,
   "metadata": {},
   "outputs": [],
   "source": [
    "dummy_input = torch.zeros(1, 3, 32, 32)\n",
    "torch.onnx.export(\n",
    "    model_torch, \n",
    "    dummy_input, \n",
    "    MODEL_ONNX,\n",
    "    verbose=False,\n",
    "    input_names=['input'],\n",
    "    output_names=['output'],\n",
    "    opset_version=14\n",
    ")"
   ]
  },
  {
   "cell_type": "markdown",
   "metadata": {},
   "source": [
    "### ONNX to TensorFlow"
   ]
  },
  {
   "cell_type": "markdown",
   "metadata": {},
   "source": [
    "~~Insert a `Transpose` node after the input to keep the input shape in NCHW.~~\n",
    "\n",
    "`void reshape_cifar_image(uint8_t*, int8_t*)` already did the transpose on board."
   ]
  },
  {
   "cell_type": "code",
   "execution_count": 28,
   "metadata": {},
   "outputs": [],
   "source": [
    "model_onnx = onnx.load(MODEL_ONNX)\n",
    "model_onnx = onnx.shape_inference.infer_shapes(model_onnx, check_type=True, strict_mode=True, data_prop=True)\n",
    "onnx.checker.check_model(model_onnx)"
   ]
  },
  {
   "cell_type": "code",
   "execution_count": 29,
   "metadata": {},
   "outputs": [],
   "source": [
    "onnx_operations = []\n",
    "for node in filter(lambda node: node.op_type in ['Mul', 'Add'], model_onnx.graph.node):\n",
    "    onnx_operations.append({\n",
    "        'op_name': node.name,\n",
    "        'param_target': 'inputs',\n",
    "        'param_name': node.input[1],\n",
    "        'pre_process_transpose_perm': [0, 2, 3, 1]\n",
    "    })\n",
    "\n",
    "import json\n",
    "with open(MODELS_DIR + 'param_replacement.json', 'w') as f:\n",
    "    f.write(json.dumps({'format_version': 1, 'operations': onnx_operations}, indent=2))"
   ]
  },
  {
   "cell_type": "code",
   "execution_count": 30,
   "metadata": {
    "scrolled": true,
    "tags": []
   },
   "outputs": [
    {
     "name": "stderr",
     "output_type": "stream",
     "text": [
      "WARNING:absl:Please consider providing the trackable_obj argument in the from_concrete_functions. Providing without the trackable_obj argument is deprecated and it will use the deprecated conversion path.\n"
     ]
    }
   ],
   "source": [
    "model_tf_rep = onnx2tf.convert(\n",
    "    input_onnx_file_path=MODEL_ONNX,\n",
    "    onnx_graph=model_onnx,\n",
    "    output_folder_path=MODEL_TF,\n",
    "    output_signaturedefs=True,\n",
    "    output_h5=False,\n",
    "    output_integer_quantized_tflite=False,\n",
    "    not_use_onnxsim=False,\n",
    "    replace_hardswish_to_pseudo_hardswish=False,\n",
    "    param_replacement_file=MODELS_DIR + 'param_replacement.json',\n",
    "    non_verbose=True\n",
    ")"
   ]
  },
  {
   "cell_type": "markdown",
   "metadata": {
    "tags": []
   },
   "source": [
    "### TensorFlow to TFLite"
   ]
  },
  {
   "cell_type": "code",
   "execution_count": 31,
   "metadata": {},
   "outputs": [],
   "source": [
    "model_tf = tf.saved_model.load(MODEL_TF)"
   ]
  },
  {
   "cell_type": "code",
   "execution_count": 32,
   "metadata": {},
   "outputs": [
    {
     "data": {
      "text/plain": [
       "671876"
      ]
     },
     "execution_count": 32,
     "metadata": {},
     "output_type": "execute_result"
    }
   ],
   "source": [
    "converter = tf.lite.TFLiteConverter.from_saved_model(MODEL_TF)\n",
    "converter.exclude_conversion_metadata = True\n",
    "model_tflite = converter.convert()\n",
    "len(model_tflite)"
   ]
  },
  {
   "cell_type": "markdown",
   "metadata": {},
   "source": [
    "### TFLite Quantization"
   ]
  },
  {
   "cell_type": "code",
   "execution_count": 33,
   "metadata": {},
   "outputs": [],
   "source": [
    "seed = 1\n",
    "random.seed(seed)\n",
    "np.random.seed(seed)\n",
    "tf.random.set_seed(seed)"
   ]
  },
  {
   "cell_type": "code",
   "execution_count": 34,
   "metadata": {},
   "outputs": [
    {
     "name": "stdout",
     "output_type": "stream",
     "text": [
      "Files already downloaded and verified\n",
      "(50000, 32, 32, 3)\n"
     ]
    }
   ],
   "source": [
    "compute_encoding_set = torchvision.datasets.CIFAR10(root=DATA_DIR, train=True, download=True).data[0:50000].astype('float32')-128\n",
    "print(compute_encoding_set.shape)"
   ]
  },
  {
   "cell_type": "code",
   "execution_count": 35,
   "metadata": {},
   "outputs": [
    {
     "name": "stderr",
     "output_type": "stream",
     "text": [
      "fully_quantize: 0, inference_type: 6, input_inference_type: INT8, output_inference_type: INT8\n"
     ]
    },
    {
     "data": {
      "text/plain": [
       "247120"
      ]
     },
     "execution_count": 35,
     "metadata": {},
     "output_type": "execute_result"
    }
   ],
   "source": [
    "def representative_dataset():\n",
    "    for i in range(1000):\n",
    "        yield([compute_encoding_set[i].reshape(1, 32, 32, 3)])\n",
    "\n",
    "converter.optimizations = [tf.lite.Optimize.DEFAULT]\n",
    "converter.representative_dataset = representative_dataset\n",
    "converter.target_spec.supported_ops = [tf.lite.OpsSet.TFLITE_BUILTINS_INT8]\n",
    "converter.inference_input_type = tf.int8\n",
    "converter.inference_output_type = tf.int8\n",
    "model_tflite_quant = converter.convert()\n",
    "len(model_tflite_quant)"
   ]
  },
  {
   "cell_type": "markdown",
   "metadata": {},
   "source": [
    "### Metadata Trimming\n",
    "https://github.com/tensorflow/tensorflow/blob/master/tensorflow/lite/schema/schema.fbs"
   ]
  },
  {
   "cell_type": "code",
   "execution_count": 36,
   "metadata": {},
   "outputs": [],
   "source": [
    "import flatbuffers\n",
    "from tensorflow.lite.python import schema_py_generated as schema\n",
    "#from tensorflow.lite.tools.flatbuffer_utils import read_model\n",
    "\n",
    "def tflm_trim(model: bytearray):\n",
    "    Model = schema.Model.GetRootAs(bytearray(model), 0)\n",
    "    ModelT = schema.ModelT.InitFromObj(Model)\n",
    "    builtin_operators = [(OperatorCodeT.customCode or OperatorCodeT.builtinCode, OperatorCodeT.version) for OperatorCodeT in ModelT.operatorCodes]\n",
    "    for SubGraphT in ModelT.subgraphs:\n",
    "        for TensorT in SubGraphT.tensors:\n",
    "            TensorT.type\n",
    "            TensorT.buffer\n",
    "            TensorT.name = ''\n",
    "            TensorT.quantization.scale\n",
    "            TensorT.quantization.zeroPoint\n",
    "            TensorT.quantization.quantizedDimension\n",
    "        SubGraphT.name = ''\n",
    "        subgraph_operators = [builtin_operators[OperatorT.opcodeIndex][0] for OperatorT in SubGraphT.operators]\n",
    "    ModelT.description = ''\n",
    "    for MetadataT in filter(lambda x: x.name.decode() == 'min_runtime_version', ModelT.metadata):\n",
    "        min_runtime_version = bytearray(ModelT.buffers[MetadataT.buffer].data).decode().rstrip('\\x00')\n",
    "    ModelT.signatureDefs = None\n",
    "    builder = flatbuffers.Builder(0)\n",
    "    builder.Finish(ModelT.Pack(builder), file_identifier='TFL3'.encode())\n",
    "    return bytes(builder.Output())"
   ]
  },
  {
   "cell_type": "code",
   "execution_count": 37,
   "metadata": {},
   "outputs": [
    {
     "data": {
      "text/plain": [
       "666332"
      ]
     },
     "execution_count": 37,
     "metadata": {},
     "output_type": "execute_result"
    }
   ],
   "source": [
    "model_tflite = tflm_trim(model_tflite)\n",
    "open(MODEL_TFLITE, 'wb').write(model_tflite)"
   ]
  },
  {
   "cell_type": "code",
   "execution_count": 38,
   "metadata": {},
   "outputs": [
    {
     "data": {
      "text/plain": [
       "241560"
      ]
     },
     "execution_count": 38,
     "metadata": {},
     "output_type": "execute_result"
    }
   ],
   "source": [
    "model_tflite_quant = tflm_trim(model_tflite_quant)\n",
    "open(MODEL_TFLITE_QUANT, \"wb\").write(model_tflite_quant)"
   ]
  },
  {
   "cell_type": "code",
   "execution_count": 39,
   "metadata": {
    "scrolled": true,
    "tags": []
   },
   "outputs": [
    {
     "name": "stdout",
     "output_type": "stream",
     "text": [
      "=== TFLite ModelAnalyzer ===\n",
      "\n",
      "Your TFLite model has '1' subgraph(s). In the subgraph description below,\n",
      "T# represents the Tensor numbers. For example, in Subgraph#0, the CONV_2D op takes\n",
      "tensor #0 and tensor #56 and tensor #55 as input and produces tensor #57 as output.\n",
      "\n",
      "Subgraph#0 (T#0) -> [T#91]\n",
      "  Op#0 CONV_2D(T#0, T#56, T#55[8489, 20581, 12052, 21102, 19546, ...]) -> [T#57]\n",
      "  Op#1 DEPTHWISE_CONV_2D(T#57, T#54, T#53[-2859, 4051, 1219, 2009, 1525, ...]) -> [T#58]\n",
      "  Op#2 CONV_2D(T#58, T#52, T#51[5787, -4538, -1274, -6288, -2669, ...]) -> [T#59]\n",
      "  Op#3 ADD(T#59, T#57) -> [T#60]\n",
      "  Op#4 CONV_2D(T#60, T#50, T#49[9205, 7701, 1124, 6191, -89, ...]) -> [T#61]\n",
      "  Op#5 PAD(T#61, T#1[0, 0, 1, 1, 1, ...]) -> [T#62]\n",
      "  Op#6 DEPTHWISE_CONV_2D(T#62, T#48, T#47[-254, -20, -1834, -245, 276, ...]) -> [T#63]\n",
      "  Op#7 CONV_2D(T#63, T#46, T#45[-3193, -1886, -9591, 1188, -2286, ...]) -> [T#64]\n",
      "  Op#8 CONV_2D(T#64, T#44, T#43[5360, 4069, 5017, 5973, 16156, ...]) -> [T#65]\n",
      "  Op#9 DEPTHWISE_CONV_2D(T#65, T#42, T#41[262, -682, 200, 113, 4269, ...]) -> [T#66]\n",
      "  Op#10 CONV_2D(T#66, T#40, T#39[-8489, -2234, 4218, -4460, -4007, ...]) -> [T#67]\n",
      "  Op#11 ADD(T#67, T#64) -> [T#68]\n",
      "  Op#12 CONV_2D(T#68, T#38, T#37[194, 5088, 5981, 5406, -2558, ...]) -> [T#69]\n",
      "  Op#13 PAD(T#69, T#1[0, 0, 1, 1, 1, ...]) -> [T#70]\n",
      "  Op#14 DEPTHWISE_CONV_2D(T#70, T#36, T#35[-286, -80, 3112, -421, -396, ...]) -> [T#71]\n",
      "  Op#15 CONV_2D(T#71, T#34, T#33[5098, 7244, -1832, 2262, 7275, ...]) -> [T#72]\n",
      "  Op#16 CONV_2D(T#72, T#32, T#31[8705, 2966, 9132, -1431, 8668, ...]) -> [T#73]\n",
      "  Op#17 DEPTHWISE_CONV_2D(T#73, T#30, T#29[8380, -223, 8057, 325, 3941, ...]) -> [T#74]\n",
      "  Op#18 CONV_2D(T#74, T#28, T#27[-1007, -2257, -1374, -6899, 2122, ...]) -> [T#75]\n",
      "  Op#19 ADD(T#75, T#72) -> [T#76]\n",
      "  Op#20 CONV_2D(T#76, T#26, T#25[3355, 4068, 768, 2736, 107, ...]) -> [T#77]\n",
      "  Op#21 DEPTHWISE_CONV_2D(T#77, T#24, T#23[-590, 7501, -5765, -8970, -1016, ...]) -> [T#78]\n",
      "  Op#22 CONV_2D(T#78, T#22, T#21[3491, 6357, -15175, 690, -8989, ...]) -> [T#79]\n",
      "  Op#23 CONV_2D(T#79, T#20, T#19[4688, -9068, -4635, -2133, -7551, ...]) -> [T#80]\n",
      "  Op#24 DEPTHWISE_CONV_2D(T#80, T#18, T#17[-83, -421, -12439, -2540, -3263, ...]) -> [T#81]\n",
      "  Op#25 CONV_2D(T#81, T#16, T#15[8972, 7677, -7735, -3420, -9755, ...]) -> [T#82]\n",
      "  Op#26 ADD(T#82, T#79) -> [T#83]\n",
      "  Op#27 CONV_2D(T#83, T#14, T#13[596, -900747, -7379, -112176, 8962, ...]) -> [T#84]\n",
      "  Op#28 PAD(T#84, T#1[0, 0, 1, 1, 1, ...]) -> [T#85]\n",
      "  Op#29 DEPTHWISE_CONV_2D(T#85, T#12, T#11[10283, -1081, -3091, 5, 9980, ...]) -> [T#86]\n",
      "  Op#30 CONV_2D(T#86, T#10, T#9[-929, -422, -4381, -1114, 3538, ...]) -> [T#87]\n",
      "  Op#31 CONV_2D(T#87, T#8, T#7[-3087, -2448, -1924, -3547, -3982, ...]) -> [T#88]\n",
      "  Op#32 MEAN(T#88, T#2[1, 2]) -> [T#89]\n",
      "  Op#33 CONV_2D(T#89, T#6, T#5[0, 0, 0, 0, 0, ...]) -> [T#90]\n",
      "  Op#34 FULLY_CONNECTED(T#90, T#4, T#3[-3481, -6452, 2168, 8472, 338, ...]) -> [T#91]\n",
      "\n",
      "Tensors of Subgraph#0\n",
      "  T#0() shape:[1, 32, 32, 3], type:INT8\n",
      "  T#1() shape:[4, 2], type:INT32 RO 32 bytes, buffer: 2, data:[0, 0, 1, 1, 1, ...]\n",
      "  T#2() shape:[2], type:INT32 RO 8 bytes, buffer: 3, data:[1, 2]\n",
      "  T#3() shape:[10], type:INT32 RO 40 bytes, buffer: 4, data:[-3481, -6452, 2168, 8472, 338, ...]\n",
      "  T#4() shape:[10, 144], type:INT8 RO 1440 bytes, buffer: 5, data:[ , ., 1, ., ;, ...]\n",
      "  T#5() shape:[144], type:INT32 RO 576 bytes, buffer: 6, data:[0, 0, 0, 0, 0, ...]\n",
      "  T#6() shape:[144, 1, 1, 288], type:INT8 RO 41472 bytes, buffer: 7, data:[., ., ., ., 6, ...]\n",
      "  T#7() shape:[288], type:INT32 RO 1152 bytes, buffer: 8, data:[-3087, -2448, -1924, -3547, -3982, ...]\n",
      "  T#8() shape:[288, 1, 1, 96], type:INT8 RO 27648 bytes, buffer: 9, data:[3, /, ., *, ., ...]\n",
      "  T#9() shape:[96], type:INT32 RO 384 bytes, buffer: 10, data:[-929, -422, -4381, -1114, 3538, ...]\n",
      "  T#10() shape:[96, 1, 1, 288], type:INT8 RO 27648 bytes, buffer: 11, data:[., ., ., ., #, ...]\n",
      "  T#11() shape:[288], type:INT32 RO 1152 bytes, buffer: 12, data:[10283, -1081, -3091, 5, 9980, ...]\n",
      "  T#12() shape:[1, 3, 3, 288], type:INT8 RO 2592 bytes, buffer: 13, data:[., ., D, ., ., ...]\n",
      "  T#13() shape:[288], type:INT32 RO 1152 bytes, buffer: 14, data:[596, -900747, -7379, -112176, 8962, ...]\n",
      "  T#14() shape:[288, 1, 1, 48], type:INT8 RO 13824 bytes, buffer: 15, data:[., ., ., ., ., ...]\n",
      "  T#15() shape:[48], type:INT32 RO 192 bytes, buffer: 16, data:[8972, 7677, -7735, -3420, -9755, ...]\n",
      "  T#16() shape:[48, 1, 1, 144], type:INT8 RO 6912 bytes, buffer: 17, data:[., ., \n",
      ", ., ., ...]\n",
      "  T#17() shape:[144], type:INT32 RO 576 bytes, buffer: 18, data:[-83, -421, -12439, -2540, -3263, ...]\n",
      "  T#18() shape:[1, 3, 3, 144], type:INT8 RO 1296 bytes, buffer: 19, data:[., ., a, \n",
      ", M, ...]\n",
      "  T#19() shape:[144], type:INT32 RO 576 bytes, buffer: 20, data:[4688, -9068, -4635, -2133, -7551, ...]\n",
      "  T#20() shape:[144, 1, 1, 48], type:INT8 RO 6912 bytes, buffer: 21, data:[., ., ., ., ., ...]\n",
      "  T#21() shape:[48], type:INT32 RO 192 bytes, buffer: 22, data:[3491, 6357, -15175, 690, -8989, ...]\n",
      "  T#22() shape:[48, 1, 1, 120], type:INT8 RO 5760 bytes, buffer: 23, data:[., ., ., ., ., ...]\n",
      "  T#23() shape:[120], type:INT32 RO 480 bytes, buffer: 24, data:[-590, 7501, -5765, -8970, -1016, ...]\n",
      "  T#24() shape:[1, 3, 3, 120], type:INT8 RO 1080 bytes, buffer: 25, data:[., ., ), ., ., ...]\n",
      "  T#25() shape:[120], type:INT32 RO 480 bytes, buffer: 26, data:[3355, 4068, 768, 2736, 107, ...]\n",
      "  T#26() shape:[120, 1, 1, 40], type:INT8 RO 4800 bytes, buffer: 27, data:[., (, ., ., ., ...]\n",
      "  T#27() shape:[40], type:INT32 RO 160 bytes, buffer: 28, data:[-1007, -2257, -1374, -6899, 2122, ...]\n",
      "  T#28() shape:[40, 1, 1, 120], type:INT8 RO 4800 bytes, buffer: 29, data:[., C, F, ., ., ...]\n",
      "  T#29() shape:[120], type:INT32 RO 480 bytes, buffer: 30, data:[8380, -223, 8057, 325, 3941, ...]\n",
      "  T#30() shape:[1, 3, 3, 120], type:INT8 RO 1080 bytes, buffer: 31, data:[., ., ., k, ., ...]\n",
      "  T#31() shape:[120], type:INT32 RO 480 bytes, buffer: 32, data:[8705, 2966, 9132, -1431, 8668, ...]\n",
      "  T#32() shape:[120, 1, 1, 40], type:INT8 RO 4800 bytes, buffer: 33, data:[., (, ., ., ., ...]\n",
      "  T#33() shape:[40], type:INT32 RO 160 bytes, buffer: 34, data:[5098, 7244, -1832, 2262, 7275, ...]\n",
      "  T#34() shape:[40, 1, 1, 64], type:INT8 RO 2560 bytes, buffer: 35, data:[., ., 1, ., ., ...]\n",
      "  T#35() shape:[64], type:INT32 RO 256 bytes, buffer: 36, data:[-286, -80, 3112, -421, -396, ...]\n",
      "  T#36() shape:[1, 3, 3, 64], type:INT8 RO 576 bytes, buffer: 37, data:[&, ., ., q, (, ...]\n",
      "  T#37() shape:[64], type:INT32 RO 256 bytes, buffer: 38, data:[194, 5088, 5981, 5406, -2558, ...]\n",
      "  T#38() shape:[64, 1, 1, 24], type:INT8 RO 1536 bytes, buffer: 39, data:[., ., ., ., ., ...]\n",
      "  T#39() shape:[24], type:INT32 RO 96 bytes, buffer: 40, data:[-8489, -2234, 4218, -4460, -4007, ...]\n",
      "  T#40() shape:[24, 1, 1, 48], type:INT8 RO 1152 bytes, buffer: 41, data:[0, ., ., ., V, ...]\n",
      "  T#41() shape:[48], type:INT32 RO 192 bytes, buffer: 42, data:[262, -682, 200, 113, 4269, ...]\n",
      "  T#42() shape:[1, 3, 3, 48], type:INT8 RO 432 bytes, buffer: 43, data:[., ., ., ., 8, ...]\n",
      "  T#43() shape:[48], type:INT32 RO 192 bytes, buffer: 44, data:[5360, 4069, 5017, 5973, 16156, ...]\n",
      "  T#44() shape:[48, 1, 1, 24], type:INT8 RO 1152 bytes, buffer: 45, data:[6, ., ., P, ., ...]\n",
      "  T#45() shape:[24], type:INT32 RO 96 bytes, buffer: 46, data:[-3193, -1886, -9591, 1188, -2286, ...]\n",
      "  T#46() shape:[24, 1, 1, 32], type:INT8 RO 768 bytes, buffer: 47, data:[., ., ., ., ., ...]\n",
      "  T#47() shape:[32], type:INT32 RO 128 bytes, buffer: 48, data:[-254, -20, -1834, -245, 276, ...]\n",
      "  T#48() shape:[1, 3, 3, 32], type:INT8 RO 288 bytes, buffer: 49, data:[\", ., H, ., ., ...]\n",
      "  T#49() shape:[32], type:INT32 RO 128 bytes, buffer: 50, data:[9205, 7701, 1124, 6191, -89, ...]\n",
      "  T#50() shape:[32, 1, 1, 16], type:INT8 RO 512 bytes, buffer: 51, data:[., ., U, ., ., ...]\n",
      "  T#51() shape:[16], type:INT32 RO 64 bytes, buffer: 52, data:[5787, -4538, -1274, -6288, -2669, ...]\n",
      "  T#52() shape:[16, 1, 1, 16], type:INT8 RO 256 bytes, buffer: 53, data:[., ., $, ., \", ...]\n",
      "  T#53() shape:[16], type:INT32 RO 64 bytes, buffer: 54, data:[-2859, 4051, 1219, 2009, 1525, ...]\n",
      "  T#54() shape:[1, 3, 3, 16], type:INT8 RO 144 bytes, buffer: 55, data:[., \", ., ., (, ...]\n",
      "  T#55() shape:[16], type:INT32 RO 64 bytes, buffer: 56, data:[8489, 20581, 12052, 21102, 19546, ...]\n",
      "  T#56() shape:[16, 3, 3, 3], type:INT8 RO 432 bytes, buffer: 57, data:[., ., ., ., ., ...]\n",
      "  T#57() shape:[1, 32, 32, 16], type:INT8\n",
      "  T#58() shape:[1, 32, 32, 16], type:INT8\n",
      "  T#59() shape:[1, 32, 32, 16], type:INT8\n",
      "  T#60() shape:[1, 32, 32, 16], type:INT8\n",
      "  T#61() shape:[1, 32, 32, 32], type:INT8\n",
      "  T#62() shape:[1, 34, 34, 32], type:INT8\n",
      "  T#63() shape:[1, 16, 16, 32], type:INT8\n",
      "  T#64() shape:[1, 16, 16, 24], type:INT8\n",
      "  T#65() shape:[1, 16, 16, 48], type:INT8\n",
      "  T#66() shape:[1, 16, 16, 48], type:INT8\n",
      "  T#67() shape:[1, 16, 16, 24], type:INT8\n",
      "  T#68() shape:[1, 16, 16, 24], type:INT8\n",
      "  T#69() shape:[1, 16, 16, 64], type:INT8\n",
      "  T#70() shape:[1, 18, 18, 64], type:INT8\n",
      "  T#71() shape:[1, 8, 8, 64], type:INT8\n",
      "  T#72() shape:[1, 8, 8, 40], type:INT8\n",
      "  T#73() shape:[1, 8, 8, 120], type:INT8\n",
      "  T#74() shape:[1, 8, 8, 120], type:INT8\n",
      "  T#75() shape:[1, 8, 8, 40], type:INT8\n",
      "  T#76() shape:[1, 8, 8, 40], type:INT8\n",
      "  T#77() shape:[1, 8, 8, 120], type:INT8\n",
      "  T#78() shape:[1, 8, 8, 120], type:INT8\n",
      "  T#79() shape:[1, 8, 8, 48], type:INT8\n",
      "  T#80() shape:[1, 8, 8, 144], type:INT8\n",
      "  T#81() shape:[1, 8, 8, 144], type:INT8\n",
      "  T#82() shape:[1, 8, 8, 48], type:INT8\n",
      "  T#83() shape:[1, 8, 8, 48], type:INT8\n",
      "  T#84() shape:[1, 8, 8, 288], type:INT8\n",
      "  T#85() shape:[1, 10, 10, 288], type:INT8\n",
      "  T#86() shape:[1, 4, 4, 288], type:INT8\n",
      "  T#87() shape:[1, 4, 4, 96], type:INT8\n",
      "  T#88() shape:[1, 4, 4, 288], type:INT8\n",
      "  T#89() shape:[1, 1, 1, 288], type:INT8\n",
      "  T#90() shape:[1, 1, 1, 144], type:INT8\n",
      "  T#91() shape:[1, 10], type:INT8\n",
      "\n",
      "---------------------------------------------------------------\n",
      "              Model size:     241560 bytes\n",
      "    Non-data buffer size:      69864 bytes (28.92 %)\n",
      "  Total data buffer size:     171696 bytes (71.08 %)\n",
      "    (Zero value buffers):        576 bytes (00.24 %)\n",
      "\n",
      "* Buffers of TFLite model are mostly used for constant tensors.\n",
      "  And zero value buffers are buffers filled with zeros.\n",
      "  Non-data buffers area are used to store operators, subgraphs and etc.\n",
      "  You can find more details from https://github.com/tensorflow/tensorflow/blob/master/tensorflow/lite/schema/schema.fbs\n",
      "\n"
     ]
    }
   ],
   "source": [
    "tf.lite.experimental.Analyzer.analyze(model_content=model_tflite_quant)"
   ]
  },
  {
   "cell_type": "markdown",
   "metadata": {},
   "source": [
    "## Compare Model Performance"
   ]
  },
  {
   "cell_type": "code",
   "execution_count": 40,
   "metadata": {},
   "outputs": [],
   "source": [
    "def predict_tf(tf_model, x_test):\n",
    "    _output = tf.zeros([0, 10], dtype='float32')\n",
    "    for data in x_test:\n",
    "        __output = tf_model(**{'inputs': tf.convert_to_tensor([data], dtype='float32')})[0]\n",
    "        _output = tf.concat([_output, [__output]], 0)\n",
    "    return _output.numpy()\n",
    "\n",
    "def predict_tflite(tflite_model, x_test):\n",
    "    x_test_ = x_test.copy()\n",
    "    x_test_ = x_test_.astype(np.float32)\n",
    "\n",
    "    interpreter = tf.lite.Interpreter(model_content=tflite_model)\n",
    "    interpreter.allocate_tensors()\n",
    "\n",
    "    input_details = interpreter.get_input_details()[0]\n",
    "    output_details = interpreter.get_output_details()[0]\n",
    "\n",
    "    input_scale, input_zero_point = input_details[\"quantization\"]\n",
    "    if (input_scale, input_zero_point) != (0.0, 0):\n",
    "        #print(input_scale, input_zero_point)\n",
    "        x_test_ = x_test_ / input_scale + input_zero_point\n",
    "        x_test_ = x_test_.astype(input_details[\"dtype\"])\n",
    "\n",
    "    y_pred = np.empty((x_test_.shape[0], output_details[\"shape\"][1]), dtype=output_details[\"dtype\"])\n",
    "    for i in range(len(x_test_)):\n",
    "        interpreter.set_tensor(input_details[\"index\"], [x_test_[i]])\n",
    "        interpreter.invoke()\n",
    "        y_pred[i] = interpreter.get_tensor(output_details[\"index\"])[0]\n",
    "\n",
    "    output_scale, output_zero_point = output_details[\"quantization\"]\n",
    "    if (output_scale, output_zero_point) != (0.0, 0):\n",
    "        #print(output_scale, output_zero_point)\n",
    "        y_pred = y_pred.astype(np.float32)\n",
    "        y_pred = (y_pred - output_zero_point) * output_scale\n",
    "\n",
    "    return y_pred\n",
    "\n",
    "def evaluate_tflite_softmax(y_pred, y_true):\n",
    "    y_pred_softmax = tf.keras.activations.softmax(tf.convert_to_tensor(y_pred), axis=1)\n",
    "    loss_function = tf.keras.losses.CategoricalCrossentropy()\n",
    "    loss = loss_function(y_true, y_pred_softmax).numpy()\n",
    "    return np.average(loss)\n",
    "\n",
    "def confusion_matrix(y_true, y_pred, subplot):\n",
    "    assert(len(y_true) == len(y_pred))\n",
    "    conf = np.zeros((10, 10), dtype='int')\n",
    "    for x, y in zip(y_true, y_pred):\n",
    "        conf[x][y] += 1\n",
    "    subplot.imshow(conf)\n",
    "    for x in range(10):\n",
    "        for y in range(10):\n",
    "            subplot.annotate(str(conf[x][y]), xy=(y, x), horizontalalignment='center', verticalalignment='center')"
   ]
  },
  {
   "cell_type": "markdown",
   "metadata": {},
   "source": [
    "**Predictions**"
   ]
  },
  {
   "cell_type": "code",
   "execution_count": 41,
   "metadata": {},
   "outputs": [
    {
     "name": "stderr",
     "output_type": "stream",
     "text": [
      "INFO: Created TensorFlow Lite XNNPACK delegate for CPU.\n"
     ]
    }
   ],
   "source": [
    "y_pred_tf = predict_tf(model_tf, x_test)\n",
    "y_pred_tflite = predict_tflite(model_tflite, x_test)\n",
    "y_pred_tflite_quant = predict_tflite(model_tflite_quant, x_test)"
   ]
  },
  {
   "cell_type": "code",
   "execution_count": 42,
   "metadata": {},
   "outputs": [
    {
     "name": "stdout",
     "output_type": "stream",
     "text": [
      "[[-4.5133424 -2.5515444  0.9526232 14.441479  -1.5507847  5.9530787\n",
      "   0.6182363 -3.4118662 -3.5918121 -6.3472466]]\n",
      "[[-4.513341   -2.5515444   0.9526235  14.441473   -1.5507826   5.953078\n",
      "   0.61823285 -3.4118626  -3.5918102  -6.3472476 ]]\n",
      "[[-4.565719   -2.7791333   0.99254763 14.491196   -1.3895667   6.1537952\n",
      "   0.5955286  -3.5731716  -3.5731716  -6.352305  ]]\n"
     ]
    }
   ],
   "source": [
    "print(y_pred_tf[0:1])\n",
    "print(y_pred_tflite[0:1])\n",
    "print(y_pred_tflite_quant[0:1])"
   ]
  },
  {
   "cell_type": "code",
   "execution_count": 43,
   "metadata": {},
   "outputs": [
    {
     "name": "stdout",
     "output_type": "stream",
     "text": [
      "Predicted 543 correct out of 600; Accuracy = 0.905\n",
      "Predicted 543 correct out of 600; Accuracy = 0.905\n",
      "Predicted 546 correct out of 600; Accuracy = 0.910\n"
     ]
    }
   ],
   "source": [
    "correct_tf = (y_test == np.argmax(y_pred_tf, axis=1))\n",
    "correct_tflite = (y_test == np.argmax(y_pred_tflite, axis=1))\n",
    "correct_tflite_quant = (y_test == np.argmax(y_pred_tflite_quant, axis=1))\n",
    "\n",
    "num_tf = correct_tf[0:350].sum() + correct_tf[50:300].sum()\n",
    "num_tflite = correct_tflite[0:350].sum() + correct_tflite[50:300].sum()\n",
    "num_tflite_quant = correct_tflite_quant[0:350].sum() + correct_tflite_quant[50:300].sum()\n",
    "\n",
    "print(\"Predicted {} correct out of {}; Accuracy = {:.3f}\".format(num_tf, 600, num_tf / 600))\n",
    "print(\"Predicted {} correct out of {}; Accuracy = {:.3f}\".format(num_tflite, 600, num_tflite / 600))\n",
    "print(\"Predicted {} correct out of {}; Accuracy = {:.3f}\".format(num_tflite_quant, 600, num_tflite_quant / 600))"
   ]
  },
  {
   "cell_type": "code",
   "execution_count": 44,
   "metadata": {},
   "outputs": [
    {
     "data": {
      "image/png": "[encoded data removed]",
      "text/plain": [
       "<Figure size 1200x800 with 3 Axes>"
      ]
     },
     "metadata": {},
     "output_type": "display_data"
    }
   ],
   "source": [
    "fig = plt.figure(figsize=(12, 8))\n",
    "confusion_matrix(y_test, np.argmax(y_pred_tf, axis=1), fig.add_subplot(1,3,1))\n",
    "confusion_matrix(y_test, np.argmax(y_pred_tflite, axis=1), fig.add_subplot(1,3,2))\n",
    "confusion_matrix(y_test, np.argmax(y_pred_tflite_quant, axis=1), fig.add_subplot(1,3,3))"
   ]
  },
  {
   "cell_type": "markdown",
   "metadata": {},
   "source": [
    "**Loss**"
   ]
  },
  {
   "cell_type": "code",
   "execution_count": 45,
   "metadata": {},
   "outputs": [],
   "source": [
    "loss_tf = evaluate_tflite_softmax(y_pred_tf, tf.one_hot(y_test, 10))\n",
    "loss_tflite = evaluate_tflite_softmax(y_pred_tflite, tf.one_hot(y_test, 10))\n",
    "loss_tflite_quant = evaluate_tflite_softmax(y_pred_tflite_quant, tf.one_hot(y_test, 10))"
   ]
  },
  {
   "cell_type": "code",
   "execution_count": 46,
   "metadata": {},
   "outputs": [
    {
     "data": {
      "text/html": [
       "<div>\n",
       "<style scoped>\n",
       "    .dataframe tbody tr th:only-of-type {\n",
       "        vertical-align: middle;\n",
       "    }\n",
       "\n",
       "    .dataframe tbody tr th {\n",
       "        vertical-align: top;\n",
       "    }\n",
       "\n",
       "    .dataframe thead th {\n",
       "        text-align: right;\n",
       "    }\n",
       "</style>\n",
       "<table border=\"1\" class=\"dataframe\">\n",
       "  <thead>\n",
       "    <tr style=\"text-align: right;\">\n",
       "      <th></th>\n",
       "      <th>Loss/CE</th>\n",
       "    </tr>\n",
       "    <tr>\n",
       "      <th>Model</th>\n",
       "      <th></th>\n",
       "    </tr>\n",
       "  </thead>\n",
       "  <tbody>\n",
       "    <tr>\n",
       "      <th>TensorFlow</th>\n",
       "      <td>0.2565</td>\n",
       "    </tr>\n",
       "    <tr>\n",
       "      <th>TensorFlow Lite</th>\n",
       "      <td>0.2565</td>\n",
       "    </tr>\n",
       "    <tr>\n",
       "      <th>TensorFlow Lite Quantized</th>\n",
       "      <td>0.2680</td>\n",
       "    </tr>\n",
       "  </tbody>\n",
       "</table>\n",
       "</div>"
      ],
      "text/plain": [
       "                           Loss/CE\n",
       "Model                             \n",
       "TensorFlow                  0.2565\n",
       "TensorFlow Lite             0.2565\n",
       "TensorFlow Lite Quantized   0.2680"
      ]
     },
     "execution_count": 46,
     "metadata": {},
     "output_type": "execute_result"
    }
   ],
   "source": [
    "df = pd.DataFrame.from_records(\n",
    "    [[\"TensorFlow\", loss_tf],\n",
    "     [\"TensorFlow Lite\", loss_tflite],\n",
    "     [\"TensorFlow Lite Quantized\", loss_tflite_quant]],\n",
    "     columns = [\"Model\", \"Loss/CE\"], index=\"Model\").round(4)\n",
    "df"
   ]
  },
  {
   "cell_type": "markdown",
   "metadata": {},
   "source": [
    "**Size**"
   ]
  },
  {
   "cell_type": "code",
   "execution_count": 47,
   "metadata": {},
   "outputs": [],
   "source": [
    "size_tf = os.path.getsize(MODEL_TF + '/saved_model.pb')\n",
    "size_tflite = os.path.getsize(MODEL_TFLITE)\n",
    "size_tflite_quant = os.path.getsize(MODEL_TFLITE_QUANT)"
   ]
  },
  {
   "cell_type": "code",
   "execution_count": 48,
   "metadata": {},
   "outputs": [
    {
     "data": {
      "text/html": [
       "<div>\n",
       "<style scoped>\n",
       "    .dataframe tbody tr th:only-of-type {\n",
       "        vertical-align: middle;\n",
       "    }\n",
       "\n",
       "    .dataframe tbody tr th {\n",
       "        vertical-align: top;\n",
       "    }\n",
       "\n",
       "    .dataframe thead th {\n",
       "        text-align: right;\n",
       "    }\n",
       "</style>\n",
       "<table border=\"1\" class=\"dataframe\">\n",
       "  <thead>\n",
       "    <tr style=\"text-align: right;\">\n",
       "      <th></th>\n",
       "      <th>Size</th>\n",
       "      <th></th>\n",
       "    </tr>\n",
       "    <tr>\n",
       "      <th>Model</th>\n",
       "      <th></th>\n",
       "      <th></th>\n",
       "    </tr>\n",
       "  </thead>\n",
       "  <tbody>\n",
       "    <tr>\n",
       "      <th>TensorFlow</th>\n",
       "      <td>4598302 bytes</td>\n",
       "      <td></td>\n",
       "    </tr>\n",
       "    <tr>\n",
       "      <th>TensorFlow Lite</th>\n",
       "      <td>666332 bytes</td>\n",
       "      <td>(reduced by 3931970 bytes)</td>\n",
       "    </tr>\n",
       "    <tr>\n",
       "      <th>TensorFlow Lite Quantized</th>\n",
       "      <td>241560 bytes</td>\n",
       "      <td>(reduced by 424772 bytes)</td>\n",
       "    </tr>\n",
       "  </tbody>\n",
       "</table>\n",
       "</div>"
      ],
      "text/plain": [
       "                                    Size                            \n",
       "Model                                                               \n",
       "TensorFlow                 4598302 bytes                            \n",
       "TensorFlow Lite            666332 bytes   (reduced by 3931970 bytes)\n",
       "TensorFlow Lite Quantized   241560 bytes   (reduced by 424772 bytes)"
      ]
     },
     "execution_count": 48,
     "metadata": {},
     "output_type": "execute_result"
    }
   ],
   "source": [
    "pd.DataFrame.from_records(\n",
    "    [[\"TensorFlow\", f\"{size_tf} bytes\", \"\"],\n",
    "     [\"TensorFlow Lite\", f\"{size_tflite} bytes \", f\"(reduced by {size_tf - size_tflite} bytes)\"],\n",
    "     [\"TensorFlow Lite Quantized\", f\"{size_tflite_quant} bytes\", f\"(reduced by {size_tflite - size_tflite_quant} bytes)\"]],\n",
    "     columns = [\"Model\", \"Size\", \"\"], index=\"Model\")"
   ]
  },
  {
   "cell_type": "markdown",
   "metadata": {},
   "source": [
    "## Generate a TensorFlow Lite for Microcontrollers Model"
   ]
  },
  {
   "cell_type": "code",
   "execution_count": 49,
   "metadata": {},
   "outputs": [],
   "source": [
    "!xxd -i {MODEL_TFLITE_QUANT} > {MODEL_TFLM}\n",
    "REPLACE_TEXT = MODEL_TFLITE_QUANT.replace('/', '_').replace('.', '_').replace('-', '_')\n",
    "!sed -i 's/'{REPLACE_TEXT}'/image_recognition_model_data/g' {MODEL_TFLM}"
   ]
  },
  {
   "cell_type": "code",
   "execution_count": 50,
   "metadata": {},
   "outputs": [],
   "source": [
    "!sed -i '1s|unsigned char |#include \"image_recognition/image_recognition_model.h\" \\n\\n// Keep model aligned to 8 bytes to guarantee aligned 64-bit accesses. \\n\\n__attribute__ ((section (\".rodata\")))\\nalignas(8) const unsigned char |g' {MODEL_TFLM}\n",
    "!sed -i '$s|unsigned int |unsigned const int |g' {MODEL_TFLM}"
   ]
  },
  {
   "cell_type": "code",
   "execution_count": null,
   "metadata": {},
   "outputs": [],
   "source": []
  }
 ],
 "metadata": {
  "kernelspec": {
   "display_name": "Python 3",
   "language": "python",
   "name": "python3"
  },
  "language_info": {
   "codemirror_mode": {
    "name": "ipython",
    "version": 3
   },
   "file_extension": ".py",
   "mimetype": "text/x-python",
   "name": "python",
   "nbconvert_exporter": "python",
   "pygments_lexer": "ipython3",
   "version": "3.9.4 (tags/v3.9.4:1f2e308, Apr  4 2021, 13:27:16) [MSC v.1928 64 bit (AMD64)]"
  },
  "vscode": {
   "interpreter": {
    "hash": "11938c6bc6919ae2720b4d5011047913343b08a43b18698fd82dedb0d4417594"
   }
  }
 },
 "nbformat": 4,
 "nbformat_minor": 4
}
